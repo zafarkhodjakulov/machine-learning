{
 "cells": [
  {
   "cell_type": "markdown",
   "metadata": {},
   "source": [
    "## **Creating Models with `torch.nn`**\n",
    "\n",
    "The `torch.nn` module provides a flexible way to define and train neural networks. In this section, we will cover:\n",
    "- Subclassing `nn.Module`\n",
    "- Understanding `__init__` and `forward`\n",
    "- Using the model for inference\n",
    "- Model attributes and methods\n",
    "- Exploring other useful classes in `torch.nn`"
   ]
  },
  {
   "cell_type": "markdown",
   "metadata": {},
   "source": [
    "### **Subclassing `nn.Module`**\n",
    "All PyTorch models should be defined as a subclass of `torch.nn.Module`. This allows PyTorch to track parameters, apply automatic differentiation, and use built-in methods like `.train()` and `.eval()`."
   ]
  },
  {
   "cell_type": "markdown",
   "metadata": {},
   "source": [
    "#### **Basic Structure of a PyTorch Model**"
   ]
  },
  {
   "cell_type": "code",
   "execution_count": 1,
   "metadata": {},
   "outputs": [
    {
     "name": "stdout",
     "output_type": "stream",
     "text": [
      "MyModel(\n",
      "  (layer1): Linear(in_features=4, out_features=5, bias=True)\n",
      "  (activation): ReLU()\n",
      "  (layer2): Linear(in_features=5, out_features=2, bias=True)\n",
      ")\n"
     ]
    }
   ],
   "source": [
    "import torch\n",
    "import torch.nn as nn\n",
    "\n",
    "class MyModel(nn.Module):\n",
    "    def __init__(self):\n",
    "        super(MyModel, self).__init__()  # Call nn.Module's constructor\n",
    "        self.layer1 = nn.Linear(4, 5)  # Fully connected layer\n",
    "        self.activation = nn.ReLU()  # Activation function\n",
    "        self.layer2 = nn.Linear(5, 2)  # Output layer\n",
    "\n",
    "    def forward(self, x):\n",
    "        x = self.layer1(x)\n",
    "        x = self.activation(x)\n",
    "        x = self.layer2(x)\n",
    "        return x\n",
    "\n",
    "# Create an instance of the model\n",
    "model = MyModel()\n",
    "print(model)"
   ]
  },
  {
   "cell_type": "markdown",
   "metadata": {},
   "source": [
    "#### **Key Parts:**\n",
    "1. **`__init__(self)`**: \n",
    "   - Defines layers as instance variables.\n",
    "   - Calls `super().__init__()` to inherit `nn.Module` functionalities.\n",
    "\n",
    "2. **`forward(self, x)`**:\n",
    "   - Defines how input data flows through the layers.\n",
    "   - Each layer is called in order, applying transformations.\n",
    "\n",
    "\n",
    "### **Using the Model**\n",
    "Once the model is defined, we can:\n",
    "- **Pass input tensors** through it.\n",
    "- **Check model parameters**.\n",
    "- **Use different modes (training/evaluation)**."
   ]
  },
  {
   "cell_type": "code",
   "execution_count": 2,
   "metadata": {},
   "outputs": [
    {
     "name": "stdout",
     "output_type": "stream",
     "text": [
      "Model Output: tensor([[-0.0013, -0.4343]], grad_fn=<AddmmBackward0>)\n"
     ]
    }
   ],
   "source": [
    "# Sample input tensor (batch size of 1, 4 features)\n",
    "x = torch.randn(1, 4)\n",
    "\n",
    "# Forward pass\n",
    "output = model(x)\n",
    "print(\"Model Output:\", output)"
   ]
  },
  {
   "cell_type": "markdown",
   "metadata": {},
   "source": [
    "### **Model Attributes and Methods**\n",
    "PyTorch models come with useful attributes and methods."
   ]
  },
  {
   "cell_type": "markdown",
   "metadata": {},
   "source": [
    "#### **1. Checking Model Parameters**"
   ]
  },
  {
   "cell_type": "code",
   "execution_count": 3,
   "metadata": {},
   "outputs": [
    {
     "name": "stdout",
     "output_type": "stream",
     "text": [
      "Layer: layer1.weight | Size: torch.Size([5, 4]) | Requires Grad: True\n",
      "Layer: layer1.bias | Size: torch.Size([5]) | Requires Grad: True\n",
      "Layer: layer2.weight | Size: torch.Size([2, 5]) | Requires Grad: True\n",
      "Layer: layer2.bias | Size: torch.Size([2]) | Requires Grad: True\n"
     ]
    }
   ],
   "source": [
    "# Print model parameters\n",
    "for name, param in model.named_parameters():\n",
    "    print(f\"Layer: {name} | Size: {param.shape} | Requires Grad: {param.requires_grad}\")"
   ]
  },
  {
   "cell_type": "markdown",
   "metadata": {},
   "source": [
    "#### **2. Switching Between Training and Evaluation Modes**"
   ]
  },
  {
   "cell_type": "code",
   "execution_count": 5,
   "metadata": {},
   "outputs": [
    {
     "data": {
      "text/plain": [
       "MyModel(\n",
       "  (layer1): Linear(in_features=4, out_features=5, bias=True)\n",
       "  (activation): ReLU()\n",
       "  (layer2): Linear(in_features=5, out_features=2, bias=True)\n",
       ")"
      ]
     },
     "execution_count": 5,
     "metadata": {},
     "output_type": "execute_result"
    }
   ],
   "source": [
    "model.train()\n",
    "model.eval()"
   ]
  },
  {
   "cell_type": "markdown",
   "metadata": {},
   "source": [
    "### **Saving and Loading Models**"
   ]
  },
  {
   "cell_type": "code",
   "execution_count": 7,
   "metadata": {},
   "outputs": [
    {
     "data": {
      "text/plain": [
       "<All keys matched successfully>"
      ]
     },
     "execution_count": 7,
     "metadata": {},
     "output_type": "execute_result"
    }
   ],
   "source": [
    "# Save model weights\n",
    "torch.save(model.state_dict(), \"model.pth\")\n",
    "\n",
    "# Load model weights\n",
    "model.load_state_dict(torch.load(\"model.pth\", weights_only=True))"
   ]
  },
  {
   "cell_type": "markdown",
   "metadata": {},
   "source": [
    "### **Other Classes in `torch.nn`**\n",
    "The `torch.nn` module contains many useful classes for building deep learning models. Here are some key ones:\n",
    "\n",
    "#### **1. Linear Layers**\n",
    "- `nn.Linear(in_features, out_features)`: Fully connected layer.\n",
    "\n",
    "#### **2. Convolutional Layers**\n",
    "- `nn.Conv1d, nn.Conv2d, nn.Conv3d`: 1D, 2D, and 3D convolutions.\n",
    "- `nn.ConvTranspose2d`: Transposed convolution for upsampling.\n",
    "\n",
    "#### **3. Recurrent Layers**\n",
    "- `nn.RNN, nn.LSTM, nn.GRU`: Recurrent layers for sequential data.\n",
    "\n",
    "#### **4. Normalization Layers**\n",
    "- `nn.BatchNorm1d, nn.BatchNorm2d, nn.BatchNorm3d`: Batch normalization.\n",
    "- `nn.LayerNorm, nn.GroupNorm`: Other normalization techniques.\n",
    "\n",
    "#### **5. Dropout**\n",
    "- `nn.Dropout(p)`: Randomly sets input elements to zero during training.\n",
    "\n",
    "#### **6. Embedding**\n",
    "- `nn.Embedding(num_embeddings, embedding_dim)`: Lookup table for embeddings.\n",
    "\n",
    "#### **7. Loss Functions**\n",
    "- `nn.CrossEntropyLoss()`: Classification loss.\n",
    "- `nn.MSELoss()`: Mean squared error for regression."
   ]
  },
  {
   "cell_type": "markdown",
   "metadata": {},
   "source": [
    "### **Example: Defining a CNN**"
   ]
  },
  {
   "cell_type": "code",
   "execution_count": 8,
   "metadata": {},
   "outputs": [
    {
     "name": "stdout",
     "output_type": "stream",
     "text": [
      "CNN(\n",
      "  (conv1): Conv2d(1, 16, kernel_size=(3, 3), stride=(1, 1), padding=(1, 1))\n",
      "  (relu): ReLU()\n",
      "  (pool): MaxPool2d(kernel_size=2, stride=2, padding=0, dilation=1, ceil_mode=False)\n",
      "  (fc1): Linear(in_features=3136, out_features=10, bias=True)\n",
      ")\n"
     ]
    }
   ],
   "source": [
    "class CNN(nn.Module):\n",
    "    def __init__(self):\n",
    "        super(CNN, self).__init__()\n",
    "        self.conv1 = nn.Conv2d(in_channels=1, out_channels=16, kernel_size=3, stride=1, padding=1)\n",
    "        self.relu = nn.ReLU()\n",
    "        self.pool = nn.MaxPool2d(kernel_size=2, stride=2)\n",
    "        self.fc1 = nn.Linear(16 * 14 * 14, 10)  # Assuming input is 28x28\n",
    "\n",
    "    def forward(self, x):\n",
    "        x = self.conv1(x)\n",
    "        x = self.relu(x)\n",
    "        x = self.pool(x)\n",
    "        x = torch.flatten(x, start_dim=1)  # Flatten for fully connected layer\n",
    "        x = self.fc1(x)\n",
    "        return x\n",
    "\n",
    "# Create CNN instance\n",
    "cnn_model = CNN()\n",
    "print(cnn_model)"
   ]
  },
  {
   "cell_type": "markdown",
   "metadata": {},
   "source": [
    "## **Training a Model in PyTorch**"
   ]
  },
  {
   "cell_type": "markdown",
   "metadata": {},
   "source": [
    "Training a neural network in PyTorch involves:\n",
    "1. **Defining an optimizer** (`torch.optim`)\n",
    "2. **Choosing a loss function** (`torch.nn.functional`)\n",
    "3. **Writing a training loop** (forward, backward, and update steps)\n",
    "4. **Evaluating the model**\n",
    "5. **Saving and loading the model**\n",
    "\n",
    "### **Defining an Optimizer**\n",
    "An **optimizer** updates model parameters to minimize the loss.\n",
    "\n",
    "#### **Common PyTorch Optimizers**\n",
    "- `torch.optim.SGD` - Stochastic Gradient Descent\n",
    "- `torch.optim.Adam` - Adaptive Moment Estimation\n",
    "- `torch.optim.RMSprop` - Root Mean Square Propagation"
   ]
  },
  {
   "cell_type": "markdown",
   "metadata": {},
   "source": [
    "### **Creating an Optimizer**"
   ]
  },
  {
   "cell_type": "code",
   "execution_count": 9,
   "metadata": {},
   "outputs": [
    {
     "name": "stdout",
     "output_type": "stream",
     "text": [
      "Adam (\n",
      "Parameter Group 0\n",
      "    amsgrad: False\n",
      "    betas: (0.9, 0.999)\n",
      "    capturable: False\n",
      "    differentiable: False\n",
      "    eps: 1e-08\n",
      "    foreach: None\n",
      "    fused: None\n",
      "    lr: 0.01\n",
      "    maximize: False\n",
      "    weight_decay: 0\n",
      ")\n"
     ]
    }
   ],
   "source": [
    "import torch\n",
    "import torch.nn as nn\n",
    "import torch.optim as optim\n",
    "\n",
    "# Define a simple model\n",
    "class SimpleModel(nn.Module):\n",
    "    def __init__(self):\n",
    "        super(SimpleModel, self).__init__()\n",
    "        self.fc = nn.Linear(2, 1)  # Single layer\n",
    "\n",
    "    def forward(self, x):\n",
    "        return self.fc(x)\n",
    "\n",
    "# Instantiate model\n",
    "model = SimpleModel()\n",
    "\n",
    "# Define optimizer\n",
    "optimizer = optim.Adam(model.parameters(), lr=0.01)\n",
    "\n",
    "# Print optimizer details\n",
    "print(optimizer)"
   ]
  },
  {
   "cell_type": "markdown",
   "metadata": {},
   "source": [
    "### **Choosing a Loss Function**\n",
    "A **loss function** measures how well the model’s predictions match the target values.\n",
    "\n",
    "#### **Common Loss Functions**\n",
    "- `nn.MSELoss()` → Mean Squared Error (Regression)\n",
    "- `nn.CrossEntropyLoss()` → Classification\n",
    "- `nn.BCELoss()` → Binary Cross-Entropy for Sigmoid output"
   ]
  },
  {
   "cell_type": "markdown",
   "metadata": {},
   "source": [
    "#### **Example: Defining a Loss Function**"
   ]
  },
  {
   "cell_type": "code",
   "execution_count": 10,
   "metadata": {},
   "outputs": [],
   "source": [
    "# Mean Squared Error Loss (for regression)\n",
    "loss_fn = nn.MSELoss()"
   ]
  },
  {
   "cell_type": "markdown",
   "metadata": {},
   "source": [
    "### **Writing a Training Loop**\n",
    "The training loop performs **three key steps**:\n",
    "1. **Forward Pass:** Compute model predictions.\n",
    "2. **Backward Pass:** Compute gradients via backpropagation.\n",
    "3. **Optimization Step:** Update model parameters."
   ]
  },
  {
   "cell_type": "markdown",
   "metadata": {},
   "source": [
    "#### **Training Loop Example**"
   ]
  },
  {
   "cell_type": "code",
   "execution_count": 11,
   "metadata": {},
   "outputs": [
    {
     "name": "stdout",
     "output_type": "stream",
     "text": [
      "Epoch 0, Loss: 19.230506896972656\n",
      "Epoch 10, Loss: 14.225132942199707\n",
      "Epoch 20, Loss: 10.100868225097656\n",
      "Epoch 30, Loss: 6.879495620727539\n",
      "Epoch 40, Loss: 4.49819803237915\n",
      "Epoch 50, Loss: 2.8341054916381836\n",
      "Epoch 60, Loss: 1.7368441820144653\n",
      "Epoch 70, Loss: 1.0561864376068115\n",
      "Epoch 80, Loss: 0.6604399085044861\n",
      "Epoch 90, Loss: 0.4456111490726471\n"
     ]
    }
   ],
   "source": [
    "# Sample dataset (inputs and targets)\n",
    "X_train = torch.tensor([[1.0, 2.0], [2.0, 3.0], [3.0, 4.0]], dtype=torch.float32)\n",
    "y_train = torch.tensor([[3.0], [5.0], [7.0]], dtype=torch.float32)\n",
    "\n",
    "# Training loop\n",
    "epochs = 100\n",
    "for epoch in range(epochs):\n",
    "    optimizer.zero_grad()  # Clear previous gradients\n",
    "    outputs = model(X_train)  # Forward pass\n",
    "    loss = loss_fn(outputs, y_train)  # Compute loss\n",
    "    loss.backward()  # Backpropagation\n",
    "    optimizer.step()  # Update weights\n",
    "\n",
    "    if epoch % 10 == 0:\n",
    "        print(f\"Epoch {epoch}, Loss: {loss.item()}\")"
   ]
  },
  {
   "cell_type": "markdown",
   "metadata": {},
   "source": [
    "### **Evaluating the Model**\n",
    "Switch the model to **evaluation mode** and make predictions."
   ]
  },
  {
   "cell_type": "code",
   "execution_count": 12,
   "metadata": {},
   "outputs": [
    {
     "name": "stdout",
     "output_type": "stream",
     "text": [
      "Model Prediction: 7.479829788208008\n"
     ]
    }
   ],
   "source": [
    "model.eval()  # Set to evaluation mode\n",
    "X_test = torch.tensor([[4.0, 5.0]], dtype=torch.float32)\n",
    "prediction = model(X_test)\n",
    "print(\"Model Prediction:\", prediction.item())"
   ]
  },
  {
   "cell_type": "markdown",
   "metadata": {},
   "source": [
    "### **Saving and Loading a Model**\n",
    "PyTorch provides two ways to save a model:"
   ]
  },
  {
   "cell_type": "markdown",
   "metadata": {},
   "source": [
    "1. **Save only weights (recommended for inference):**"
   ]
  },
  {
   "cell_type": "code",
   "execution_count": 13,
   "metadata": {},
   "outputs": [],
   "source": [
    "torch.save(model.state_dict(), \"model_weights.pth\")"
   ]
  },
  {
   "cell_type": "markdown",
   "metadata": {},
   "source": [
    "2. **Save the entire model (structure + weights, less recommended):**"
   ]
  },
  {
   "cell_type": "code",
   "execution_count": 14,
   "metadata": {},
   "outputs": [],
   "source": [
    "torch.save(model, \"full_model.pth\")"
   ]
  },
  {
   "cell_type": "markdown",
   "metadata": {},
   "source": [
    "#### **Loading the Model**"
   ]
  },
  {
   "cell_type": "code",
   "execution_count": 16,
   "metadata": {},
   "outputs": [
    {
     "data": {
      "text/plain": [
       "SimpleModel(\n",
       "  (fc): Linear(in_features=2, out_features=1, bias=True)\n",
       ")"
      ]
     },
     "execution_count": 16,
     "metadata": {},
     "output_type": "execute_result"
    }
   ],
   "source": [
    "# Load weights\n",
    "model.load_state_dict(torch.load(\"model_weights.pth\", weights_only=True))\n",
    "model.eval()  # Always switch to eval mode for inference"
   ]
  },
  {
   "cell_type": "code",
   "execution_count": null,
   "metadata": {},
   "outputs": [],
   "source": []
  }
 ],
 "metadata": {
  "kernelspec": {
   "display_name": "Python 3",
   "language": "python",
   "name": "python3"
  },
  "language_info": {
   "codemirror_mode": {
    "name": "ipython",
    "version": 3
   },
   "file_extension": ".py",
   "mimetype": "text/x-python",
   "name": "python",
   "nbconvert_exporter": "python",
   "pygments_lexer": "ipython3",
   "version": "3.10.11"
  }
 },
 "nbformat": 4,
 "nbformat_minor": 2
}
