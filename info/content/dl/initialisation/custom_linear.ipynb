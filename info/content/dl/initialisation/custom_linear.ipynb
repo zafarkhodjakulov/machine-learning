{
 "cells": [
  {
   "cell_type": "code",
   "execution_count": 2,
   "metadata": {},
   "outputs": [],
   "source": [
    "import torch\n",
    "import torch.nn as nn"
   ]
  },
  {
   "cell_type": "code",
   "execution_count": 37,
   "metadata": {},
   "outputs": [],
   "source": [
    "def pprint(txt: str, n:int =100):\n",
    "    print('-'*n)\n",
    "    print(txt.center(n))\n",
    "    print('-'*n)"
   ]
  },
  {
   "cell_type": "code",
   "execution_count": 45,
   "metadata": {},
   "outputs": [
    {
     "name": "stdout",
     "output_type": "stream",
     "text": [
      "----------------------------------------------------------------------------------------------------\n",
      "                                            Torch Linear                                            \n",
      "----------------------------------------------------------------------------------------------------\n",
      "l1 weight: Parameter containing:\n",
      "tensor([[ 0.4414,  0.4792, -0.1353],\n",
      "        [ 0.5304, -0.1265,  0.1165],\n",
      "        [-0.2811,  0.3391,  0.5090],\n",
      "        [-0.4236,  0.5018,  0.1081]], requires_grad=True)\n",
      "l1 bias: Parameter containing:\n",
      "tensor([ 0.4266,  0.0782,  0.2784, -0.0815], requires_grad=True)\n",
      "l1 out: tensor([[ 0.6052,  0.2678,  0.3468, -0.1341],\n",
      "        [ 0.0153,  0.3207, -0.2619, -0.7627]], grad_fn=<AddmmBackward0>)\n",
      "\n",
      "----------------------------------------------------------------------------------------------------\n",
      "                                           Custom Linear                                            \n",
      "----------------------------------------------------------------------------------------------------\n",
      "l2 weight: Parameter containing:\n",
      "tensor([[ 0.4414,  0.4792, -0.1353],\n",
      "        [ 0.5304, -0.1265,  0.1165],\n",
      "        [-0.2811,  0.3391,  0.5090],\n",
      "        [-0.4236,  0.5018,  0.1081]], requires_grad=True)\n",
      "l2 bias: Parameter containing:\n",
      "tensor([ 0.4266,  0.0782,  0.2784, -0.0815], requires_grad=True)\n",
      "l2 out: tensor([[ 0.6052,  0.2678,  0.3468, -0.1341],\n",
      "        [ 0.0153,  0.3207, -0.2619, -0.7627]], grad_fn=<AddmmBackward0>)\n",
      "\n",
      "----------------------------------------------------------------------------------------------------\n",
      "                                             Comparison                                             \n",
      "----------------------------------------------------------------------------------------------------\n",
      "l1.weight == l2.weight -> True\n",
      "l1.bias == l2.bias -> True\n",
      "l1.out == l2.out -> True\n"
     ]
    }
   ],
   "source": [
    "torch.manual_seed(42)\n",
    "x = torch.randn(2, 3)\n",
    "\n",
    "torch.manual_seed(42)\n",
    "l1 = nn.Linear(3, 4)\n",
    "\n",
    "pprint('Torch Linear')\n",
    "print('l1 weight:', l1.weight)\n",
    "print('l1 bias:', l1.bias)\n",
    "print('l1 out:', l1(x))\n",
    "\n",
    "class Linear(nn.Module):\n",
    "    def __init__(self, in_features, out_features, *, bias=True, device=None, dtype=None):\n",
    "        super().__init__()\n",
    "        device = device or 'cpu'\n",
    "        dtype = dtype or torch.float32\n",
    "\n",
    "        k = 1 / (in_features ** 0.5)\n",
    "        # W = 2*k*torch.rand(out_features, in_features, dtype=dtype, device=device) - k\n",
    "        W = torch.empty(out_features, in_features, dtype=dtype, device=device)\n",
    "        nn.init.uniform_(W, -k, k)\n",
    "        self.weight = nn.Parameter(W)\n",
    "\n",
    "        self.bias = None\n",
    "        if bias:\n",
    "            # b = 2*k*torch.rand(out_features, dtype=dtype, device=device) - k\n",
    "            # self.bias = nn.Parameter(b)\n",
    "\n",
    "            b = torch.empty(out_features, dtype=dtype, device=device)\n",
    "            nn.init.uniform_(b, -k, k)\n",
    "            self.bias = nn.Parameter(b)\n",
    "\n",
    "\n",
    "    def forward(self, x):\n",
    "        if self.bias is not None:\n",
    "            return torch.addmm(self.bias, x, self.weight.T)\n",
    "            return x @ self.weight + self.bias\n",
    "        return x @ self.weight.T\n",
    "\n",
    "print()\n",
    "pprint('Custom Linear')\n",
    "torch.manual_seed(42)\n",
    "\n",
    "l2 = Linear(3, 4)\n",
    "print('l2 weight:', l2.weight)\n",
    "print('l2 bias:', l2.bias)\n",
    "print('l2 out:', l2(x))\n",
    "\n",
    "print()\n",
    "pprint(\"Comparison\")\n",
    "print(\"l1.weight == l2.weight ->\", torch.allclose(l1.weight, l2.weight))\n",
    "print(\"l1.bias == l2.bias ->\", torch.allclose(l1.bias, l2.bias))\n",
    "print(\"l1.out == l2.out ->\", torch.allclose(l1(x), l2(x)))"
   ]
  }
 ],
 "metadata": {
  "kernelspec": {
   "display_name": "Python 3",
   "language": "python",
   "name": "python3"
  },
  "language_info": {
   "codemirror_mode": {
    "name": "ipython",
    "version": 3
   },
   "file_extension": ".py",
   "mimetype": "text/x-python",
   "name": "python",
   "nbconvert_exporter": "python",
   "pygments_lexer": "ipython3",
   "version": "3.10.11"
  }
 },
 "nbformat": 4,
 "nbformat_minor": 2
}
