{
 "cells": [
  {
   "cell_type": "markdown",
   "metadata": {},
   "source": [
    "## *\"Understanding the Difficulty of Training Deep Feedforward Neural Networks\"* using PyTorch.\n",
    "\n",
    "### **Step 1: Dataset Preparation**\n",
    "- The original paper used datasets like MNIST.\n",
    "- We'll load MNIST using `torchvision.datasets` and preprocess it.\n",
    "\n",
    "---\n",
    "\n",
    "### **Step 2: Implementing Neural Networks**\n",
    "- Define fully connected feedforward networks with **sigmoid, tanh, and ReLU** activations.\n",
    "- Apply **Xavier (Glorot) and Kaiming initialization**.\n",
    "- Measure the effect of different initializations on activations.\n",
    "\n",
    "---\n",
    "\n",
    "### **Step 3: Training and Observing Activations**\n",
    "- Train the networks with standard optimizers like **SGD**.\n",
    "- Record activation distributions after each layer to check for **saturation** and **linearity**.\n",
    "- Use **histograms** to visualize activations.\n",
    "\n",
    "---\n",
    "\n",
    "### **Step 4: Compute Metrics**\n",
    "- Measure **gradient magnitudes** to detect vanishing or exploding gradients.\n",
    "- Track **loss curves**.\n",
    "- Compare **training speed and final accuracy**.\n",
    "\n",
    "---\n",
    "\n",
    "### **Step 5: Perplexity Calculation (Optional)**\n",
    "- If dealing with text, use a softmax output layer.\n",
    "- Compute **perplexity = exp(cross-entropy loss)**."
   ]
  },
  {
   "cell_type": "markdown",
   "metadata": {},
   "source": [
    "### **Step 1: Dataset Preparation**"
   ]
  },
  {
   "cell_type": "code",
   "execution_count": 1,
   "metadata": {},
   "outputs": [
    {
     "name": "stdout",
     "output_type": "stream",
     "text": [
      "Downloading http://yann.lecun.com/exdb/mnist/train-images-idx3-ubyte.gz\n",
      "Failed to download (trying next):\n",
      "HTTP Error 404: Not Found\n",
      "\n",
      "Downloading https://ossci-datasets.s3.amazonaws.com/mnist/train-images-idx3-ubyte.gz\n",
      "Downloading https://ossci-datasets.s3.amazonaws.com/mnist/train-images-idx3-ubyte.gz to ./data\\MNIST\\raw\\train-images-idx3-ubyte.gz\n"
     ]
    },
    {
     "name": "stderr",
     "output_type": "stream",
     "text": [
      "100%|██████████| 9.91M/9.91M [02:21<00:00, 69.9kB/s]\n"
     ]
    },
    {
     "name": "stdout",
     "output_type": "stream",
     "text": [
      "Extracting ./data\\MNIST\\raw\\train-images-idx3-ubyte.gz to ./data\\MNIST\\raw\n",
      "\n",
      "Downloading http://yann.lecun.com/exdb/mnist/train-labels-idx1-ubyte.gz\n",
      "Failed to download (trying next):\n",
      "HTTP Error 404: Not Found\n",
      "\n",
      "Downloading https://ossci-datasets.s3.amazonaws.com/mnist/train-labels-idx1-ubyte.gz\n",
      "Downloading https://ossci-datasets.s3.amazonaws.com/mnist/train-labels-idx1-ubyte.gz to ./data\\MNIST\\raw\\train-labels-idx1-ubyte.gz\n"
     ]
    },
    {
     "name": "stderr",
     "output_type": "stream",
     "text": [
      "100%|██████████| 28.9k/28.9k [00:00<00:00, 32.6kB/s]\n"
     ]
    },
    {
     "name": "stdout",
     "output_type": "stream",
     "text": [
      "Extracting ./data\\MNIST\\raw\\train-labels-idx1-ubyte.gz to ./data\\MNIST\\raw\n",
      "\n",
      "Downloading http://yann.lecun.com/exdb/mnist/t10k-images-idx3-ubyte.gz\n",
      "Failed to download (trying next):\n",
      "HTTP Error 404: Not Found\n",
      "\n",
      "Downloading https://ossci-datasets.s3.amazonaws.com/mnist/t10k-images-idx3-ubyte.gz\n",
      "Downloading https://ossci-datasets.s3.amazonaws.com/mnist/t10k-images-idx3-ubyte.gz to ./data\\MNIST\\raw\\t10k-images-idx3-ubyte.gz\n"
     ]
    },
    {
     "name": "stderr",
     "output_type": "stream",
     "text": [
      "100%|██████████| 1.65M/1.65M [00:54<00:00, 30.4kB/s]\n"
     ]
    },
    {
     "name": "stdout",
     "output_type": "stream",
     "text": [
      "Extracting ./data\\MNIST\\raw\\t10k-images-idx3-ubyte.gz to ./data\\MNIST\\raw\n",
      "\n",
      "Downloading http://yann.lecun.com/exdb/mnist/t10k-labels-idx1-ubyte.gz\n",
      "Failed to download (trying next):\n",
      "HTTP Error 404: Not Found\n",
      "\n",
      "Downloading https://ossci-datasets.s3.amazonaws.com/mnist/t10k-labels-idx1-ubyte.gz\n",
      "Downloading https://ossci-datasets.s3.amazonaws.com/mnist/t10k-labels-idx1-ubyte.gz to ./data\\MNIST\\raw\\t10k-labels-idx1-ubyte.gz\n"
     ]
    },
    {
     "name": "stderr",
     "output_type": "stream",
     "text": [
      "100%|██████████| 4.54k/4.54k [00:00<00:00, 15.1kB/s]"
     ]
    },
    {
     "name": "stdout",
     "output_type": "stream",
     "text": [
      "Extracting ./data\\MNIST\\raw\\t10k-labels-idx1-ubyte.gz to ./data\\MNIST\\raw\n",
      "\n",
      "Batch shape: torch.Size([64, 1, 28, 28]), Labels shape: torch.Size([64])\n"
     ]
    },
    {
     "name": "stderr",
     "output_type": "stream",
     "text": [
      "\n"
     ]
    }
   ],
   "source": [
    "import torch\n",
    "import torchvision\n",
    "import torchvision.transforms as transforms\n",
    "from torch.utils.data import DataLoader\n",
    "\n",
    "# Define transformations (convert to tensor & normalize)\n",
    "transform = transforms.Compose([\n",
    "    transforms.ToTensor(),\n",
    "    transforms.Normalize((0.1307,), (0.3081,))  # Mean and Std of MNIST\n",
    "])\n",
    "\n",
    "# Download and load the MNIST dataset\n",
    "train_dataset = torchvision.datasets.MNIST(root='./data', train=True, transform=transform, download=True)\n",
    "test_dataset = torchvision.datasets.MNIST(root='./data', train=False, transform=transform, download=True)\n",
    "\n",
    "# Create DataLoaders\n",
    "batch_size = 64\n",
    "train_loader = DataLoader(train_dataset, batch_size=batch_size, shuffle=True)\n",
    "test_loader = DataLoader(test_dataset, batch_size=batch_size, shuffle=False)\n",
    "\n",
    "# Check dataset shape\n",
    "images, labels = next(iter(train_loader))\n",
    "print(f\"Batch shape: {images.shape}, Labels shape: {labels.shape}\")\n"
   ]
  },
  {
   "cell_type": "markdown",
   "metadata": {},
   "source": [
    "### **Step 2: Implementing Neural Networks**"
   ]
  },
  {
   "cell_type": "code",
   "execution_count": 6,
   "metadata": {},
   "outputs": [],
   "source": [
    "import torch.nn as nn\n",
    "import torch.nn.functional as F\n",
    "\n",
    "class FeedforwardNN(nn.Module):\n",
    "    def __init__(self, activation='relu', init_method='xavier'):\n",
    "        super().__init__()\n",
    "\n",
    "        self.activation_name = activation\n",
    "        self.init_method = init_method\n",
    "\n",
    "        self.fc1 = nn.Linear(28*28, 256)\n",
    "        self.fc2 = nn.Linear(256, 256)\n",
    "        self.fc3 = nn.Linear(256, 10)\n",
    "\n",
    "        self._initialize_weights()\n",
    "\n",
    "    def forward(self, x):\n",
    "        x = x.view(x.size(0), -1)\n",
    "\n",
    "        if self.activation_name == 'sigmoid':\n",
    "            x = torch.sigmoid(self.fc1(x))\n",
    "            x = torch.sigmoid(self.fc2(x))\n",
    "        elif self.activation_name == 'tanh':\n",
    "            x = torch.tanh(self.fc1(x))\n",
    "            x = torch.tanh(self.fc2(x))\n",
    "        else:  # Default to ReLU\n",
    "            x = F.relu(self.fc1(x))\n",
    "            x = F.relu(self.fc2(x))\n",
    "\n",
    "        x = self.fc3(x)\n",
    "        return x\n",
    "\n",
    "    def _initialize_weights(self):\n",
    "        for layer in [self.fc1, self.fc2, self.fc3]:\n",
    "            if self.init_method == 'xavier':\n",
    "                nn.init.xavier_uniform_(layer.weight)\n",
    "            elif self.init_method == 'kaiming':\n",
    "                nn.init.kaiming_uniform_(layer.weight, nonlinearity='relu')\n",
    "            else:\n",
    "                nn.init.normal_(layer.weight, mean=0.0, std=0.1)\n",
    "        nn.init.zeros_(layer.bias)"
   ]
  },
  {
   "cell_type": "code",
   "execution_count": 7,
   "metadata": {},
   "outputs": [
    {
     "name": "stdout",
     "output_type": "stream",
     "text": [
      "First layer weights (ReLU + Xavier): tensor([-0.0170, -0.0460,  0.0547, -0.0164, -0.0376, -0.0101,  0.0685,  0.0132,\n",
      "        -0.0509, -0.0562], grad_fn=<SliceBackward0>)\n",
      "First layer weights (ReLU + Kaiming): tensor([-7.4008e-02, -5.5403e-02, -5.3340e-02,  5.2805e-02, -2.7636e-02,\n",
      "        -1.5504e-02,  3.4897e-02, -1.0132e-02, -2.6389e-02, -2.0899e-05],\n",
      "       grad_fn=<SliceBackward0>)\n"
     ]
    }
   ],
   "source": [
    "# Create models with different activation functions and initializations\n",
    "model_relu_xavier = FeedforwardNN(activation='relu', init_method='xavier')\n",
    "model_relu_kaiming = FeedforwardNN(activation='relu', init_method='kaiming')\n",
    "model_sigmoid_xavier = FeedforwardNN(activation='sigmoid', init_method='xavier')\n",
    "model_tanh_xavier = FeedforwardNN(activation='tanh', init_method='xavier')\n",
    "\n",
    "# Print initialized weights for verification\n",
    "print(\"First layer weights (ReLU + Xavier):\", model_relu_xavier.fc1.weight[0][:10])\n",
    "print(\"First layer weights (ReLU + Kaiming):\", model_relu_kaiming.fc1.weight[0][:10])"
   ]
  },
  {
   "cell_type": "markdown",
   "metadata": {},
   "source": [
    "### Step 3: Visualizing Activations to Check for Saturation"
   ]
  },
  {
   "cell_type": "code",
   "execution_count": 8,
   "metadata": {},
   "outputs": [],
   "source": [
    "import torch\n",
    "import matplotlib.pyplot as plt\n",
    "\n",
    "# Function to register hooks for capturing activations\n",
    "activations = {}\n",
    "\n",
    "def activation_hook(layer_name):\n",
    "    def hook(module, input, output):\n",
    "        activations[layer_name] = output.detach().cpu().numpy()\n",
    "    return hook\n"
   ]
  },
  {
   "cell_type": "code",
   "execution_count": 9,
   "metadata": {},
   "outputs": [
    {
     "data": {
      "text/plain": [
       "<torch.utils.hooks.RemovableHandle at 0x17f2e192fb0>"
      ]
     },
     "execution_count": 9,
     "metadata": {},
     "output_type": "execute_result"
    }
   ],
   "source": [
    "# Select a model (e.g., ReLU with Xavier initialization)\n",
    "model = FeedforwardNN(activation='relu', init_method='xavier')\n",
    "\n",
    "# Register hooks on hidden layers\n",
    "model.fc1.register_forward_hook(activation_hook('fc1'))\n",
    "model.fc2.register_forward_hook(activation_hook('fc2'))\n"
   ]
  },
  {
   "cell_type": "code",
   "execution_count": 10,
   "metadata": {},
   "outputs": [],
   "source": [
    "# Generate random input data (like an image batch)\n",
    "x = torch.randn(1000, 28*28)  # 1000 samples of 784 features\n",
    "_ = model(x)  # Forward pass to trigger hooks\n"
   ]
  },
  {
   "cell_type": "code",
   "execution_count": 11,
   "metadata": {},
   "outputs": [
    {
     "data": {
      "image/png": "[encoded data removed]",
      "text/plain": [
       "<Figure size 1200x500 with 2 Axes>"
      ]
     },
     "metadata": {},
     "output_type": "display_data"
    }
   ],
   "source": [
    "def plot_activations(activations):\n",
    "    plt.figure(figsize=(12, 5))\n",
    "    \n",
    "    for i, (layer, act) in enumerate(activations.items()):\n",
    "        plt.subplot(1, 2, i+1)\n",
    "        plt.hist(act.flatten(), bins=50, alpha=0.75)\n",
    "        plt.title(f'Activation Distribution - {layer}')\n",
    "        plt.xlabel('Activation Value')\n",
    "        plt.ylabel('Frequency')\n",
    "\n",
    "    plt.show()\n",
    "\n",
    "plot_activations(activations)\n"
   ]
  },
  {
   "cell_type": "markdown",
   "metadata": {},
   "source": [
    "### Step 4: Training the Model and Observing Loss Dynamics"
   ]
  },
  {
   "cell_type": "code",
   "execution_count": 12,
   "metadata": {},
   "outputs": [],
   "source": [
    "import torch.optim as optim\n",
    "\n",
    "def train_model(model, epochs=10, lr=0.01):\n",
    "    optimizer = optim.SGD(model.parameters(), lr=lr)\n",
    "    loss_fn = torch.nn.CrossEntropyLoss()\n",
    "\n",
    "    losses = []\n",
    "\n",
    "    for epoch in range(epochs):\n",
    "        optimizer.zero_grad()\n",
    "        \n",
    "        # Generate random data and labels\n",
    "        x = torch.randn(256, 28*28)  # Batch of 256 images\n",
    "        y = torch.randint(0, 10, (256,))  # Random labels (10 classes)\n",
    "        \n",
    "        logits = model(x)\n",
    "        loss = loss_fn(logits, y)\n",
    "        loss.backward()\n",
    "        optimizer.step()\n",
    "        \n",
    "        losses.append(loss.item())\n",
    "\n",
    "        print(f\"Epoch {epoch+1}/{epochs}, Loss: {loss.item():.4f}\")\n",
    "\n",
    "    return losses\n"
   ]
  },
  {
   "cell_type": "code",
   "execution_count": 13,
   "metadata": {},
   "outputs": [
    {
     "name": "stdout",
     "output_type": "stream",
     "text": [
      "\n",
      "Training with xavier initialization...\n",
      "Epoch 1/10, Loss: 2.5533\n",
      "Epoch 2/10, Loss: 2.4737\n",
      "Epoch 3/10, Loss: 2.4835\n",
      "Epoch 4/10, Loss: 2.5526\n",
      "Epoch 5/10, Loss: 2.5294\n",
      "Epoch 6/10, Loss: 2.5821\n",
      "Epoch 7/10, Loss: 2.5033\n",
      "Epoch 8/10, Loss: 2.4966\n",
      "Epoch 9/10, Loss: 2.5116\n",
      "Epoch 10/10, Loss: 2.4505\n",
      "\n",
      "Training with kaiming initialization...\n",
      "Epoch 1/10, Loss: 3.3134\n",
      "Epoch 2/10, Loss: 3.1532\n",
      "Epoch 3/10, Loss: 2.7689\n",
      "Epoch 4/10, Loss: 2.7693\n",
      "Epoch 5/10, Loss: 2.8378\n",
      "Epoch 6/10, Loss: 2.7715\n",
      "Epoch 7/10, Loss: 2.7345\n",
      "Epoch 8/10, Loss: 2.7059\n",
      "Epoch 9/10, Loss: 2.7284\n",
      "Epoch 10/10, Loss: 2.8258\n"
     ]
    }
   ],
   "source": [
    "import numpy as np\n",
    "\n",
    "# Compare Xavier vs. Kaiming initialization\n",
    "methods = ['xavier', 'kaiming']\n",
    "losses_dict = {}\n",
    "\n",
    "for method in methods:\n",
    "    print(f\"\\nTraining with {method} initialization...\")\n",
    "    model = FeedforwardNN(activation='relu', init_method=method)\n",
    "    losses_dict[method] = train_model(model)\n"
   ]
  },
  {
   "cell_type": "code",
   "execution_count": 14,
   "metadata": {},
   "outputs": [
    {
     "data": {
      "image/png": "[encoded data removed]",
      "text/plain": [
       "<Figure size 800x500 with 1 Axes>"
      ]
     },
     "metadata": {},
     "output_type": "display_data"
    }
   ],
   "source": [
    "plt.figure(figsize=(8, 5))\n",
    "\n",
    "for method, losses in losses_dict.items():\n",
    "    plt.plot(losses, label=f\"{method} init\")\n",
    "\n",
    "plt.xlabel('Epochs')\n",
    "plt.ylabel('Loss')\n",
    "plt.title('Training Loss with Different Initializations')\n",
    "plt.legend()\n",
    "plt.show()\n"
   ]
  },
  {
   "cell_type": "code",
   "execution_count": null,
   "metadata": {},
   "outputs": [],
   "source": []
  }
 ],
 "metadata": {
  "kernelspec": {
   "display_name": "Python 3",
   "language": "python",
   "name": "python3"
  },
  "language_info": {
   "codemirror_mode": {
    "name": "ipython",
    "version": 3
   },
   "file_extension": ".py",
   "mimetype": "text/x-python",
   "name": "python",
   "nbconvert_exporter": "python",
   "pygments_lexer": "ipython3",
   "version": "3.10.11"
  }
 },
 "nbformat": 4,
 "nbformat_minor": 2
}
