{
 "cells": [
  {
   "cell_type": "markdown",
   "metadata": {},
   "source": [
    "<h2 style=\"text-align:center;color:#0F4C81;\">Perceptron</h2>\n",
    "\n",
    "**Example with 2 features and 3 outputs.**"
   ]
  },
  {
   "cell_type": "markdown",
   "metadata": {},
   "source": [
    "For a **perceptron with 2 inputs and 3 outputs**, you need a dataset where each input pair $[x_1, x_2]$ is associated with 3 binary outputs $[y_1, y_2, y_3]$. This kind of dataset is common in **multi-label classification**, where each input can be assigned to multiple categories at the same time.\n",
    "\n",
    "---\n",
    "\n",
    "## **🎓 Possible Real-World Datasets**\n",
    "Here are some examples where this type of perceptron could be applied:\n",
    "\n",
    "### **1️⃣ Image Tagging (Multi-label Classification)**\n",
    "- **Inputs**: Features extracted from an image (like color, texture, or pixel intensity)  \n",
    "- **Outputs**: Three binary labels for whether an image contains certain objects or features.  \n",
    "  - $y_1 = 1$ if the image contains a **cat** (0 if not)  \n",
    "  - $y_2 = 1$ if the image contains a **dog** (0 if not)  \n",
    "  - $y_3 = 1$ if the image contains a **tree** (0 if not)  \n",
    "\n",
    "| **$x_1$** | **$x_2$** | **$y_1$ (Cat)** | **$y_2$ (Dog)** | **$y_3$ (Tree)** |\n",
    "|------------|-------------|-------------------|-------------------|---------------------|\n",
    "| 0.8        | 0.1         | 1                 | 0                 | 0                   |\n",
    "| 0.2        | 0.9         | 0                 | 1                 | 1                   |\n",
    "| 0.6        | 0.6         | 1                 | 1                 | 0                   |\n",
    "| 0.9        | 0.2         | 1                 | 0                 | 0                   |\n",
    "| 0.4        | 0.7         | 0                 | 0                 | 1                   |\n",
    "\n",
    "> **Explanation**:  \n",
    "The two inputs $[x_1, x_2]$ might be features representing the image's overall brightness or color intensities. Each output column indicates whether an image contains a cat, dog, or tree.  \n",
    "\n",
    "---\n",
    "\n",
    "### **2️⃣ Weather Prediction**\n",
    "- **Inputs**: Current weather conditions, such as **temperature** and **humidity**.  \n",
    "- **Outputs**: Predicting if 3 weather events happen:  \n",
    "  - $y_1 = 1$ if it will **rain** (0 if not)  \n",
    "  - $y_2 = 1$ if it will be **windy** (0 if not)  \n",
    "  - $y_3 = 1$ if it will be **sunny** (0 if not)  \n",
    "\n",
    "| **$x_1$ (Temperature)** | **$x_2$ (Humidity)** | **$y_1$ (Rain)** | **$y_2$ (Windy)** | **$y_3$ (Sunny)** |\n",
    "|--------------------------|-----------------------|--------------------|---------------------|---------------------|\n",
    "| 22                        | 80                    | 1                  | 0                   | 0                   |\n",
    "| 30                        | 40                    | 0                  | 1                   | 1                   |\n",
    "| 25                        | 60                    | 0                  | 1                   | 0                   |\n",
    "| 18                        | 90                    | 1                  | 0                   | 0                   |\n",
    "| 28                        | 50                    | 0                  | 0                   | 1                   |\n",
    "\n",
    "> **Explanation**:  \n",
    "Here, temperature and humidity are the two inputs. The outputs predict the weather: rain, wind, or sunshine. Notice that it's possible to have **multiple 1s** in the output, e.g., it can be both windy and sunny at the same time.  \n",
    "\n",
    "---\n",
    "\n",
    "### **3️⃣ Patient Diagnosis (Multi-label Classification)**\n",
    "- **Inputs**: Medical test results (like blood pressure and sugar levels).  \n",
    "- **Outputs**: Predict if a patient has certain conditions:  \n",
    "  - $y_1 = 1$ if the patient has **diabetes** (0 if not)  \n",
    "  - $y_2 = 1$ if the patient has **hypertension** (0 if not)  \n",
    "  - $y_3 = 1$ if the patient has **heart disease** (0 if not)  \n",
    "\n",
    "| **$x_1$ (Blood Pressure)** | **$x_2$ (Blood Sugar)** | **$y_1$ (Diabetes)** | **$y_2$ (Hypertension)** | **$y_3$ (Heart Disease)** |\n",
    "|-----------------------------|--------------------------|-----------------------|----------------------------|-----------------------------|\n",
    "| 130                          | 180                      | 1                     | 1                          | 0                           |\n",
    "| 120                          | 150                      | 0                     | 0                          | 0                           |\n",
    "| 145                          | 200                      | 1                     | 1                          | 1                           |\n",
    "| 110                          | 140                      | 0                     | 0                          | 0                           |\n",
    "| 135                          | 190                      | 1                     | 1                          | 0                           |\n",
    "\n",
    "> **Explanation**:  \n",
    "Blood pressure and blood sugar are the inputs, and the outputs predict whether the patient has diabetes, hypertension, or heart disease. Here, the patient can have **multiple diseases at the same time**, which makes it a multi-label classification problem.  \n",
    "\n",
    "---\n",
    "\n",
    "### **4️⃣ Multi-Category Product Classification**\n",
    "- **Inputs**: Product properties, like **weight** and **size**.  \n",
    "- **Outputs**: Determine product type.  \n",
    "  - $y_1 = 1$ if the product is an **electronic device** (0 if not)  \n",
    "  - $y_2 = 1$ if the product is a **clothing item** (0 if not)  \n",
    "  - $y_3 = 1$ if the product is a **furniture item** (0 if not)  \n",
    "\n",
    "| **$x_1$ (Weight)** | **$x_2$ (Size)** | **$y_1$ (Electronics)** | **$y_2$ (Clothing)** | **$y_3$ (Furniture)** |\n",
    "|---------------------|-------------------|--------------------------|-----------------------|------------------------|\n",
    "| 1.5                 | 10                 | 1                        | 0                     | 0                      |\n",
    "| 0.2                 | 2                  | 0                        | 1                     | 0                      |\n",
    "| 25.0                | 80                 | 0                        | 0                     | 1                      |\n",
    "| 1.0                 | 8                  | 1                        | 0                     | 0                      |\n",
    "| 0.5                 | 1                  | 0                        | 1                     | 0                      |\n",
    "\n",
    "> **Explanation**:  \n",
    "The inputs here are **weight** and **size**. Based on these, we predict if the product is an electronic, clothing, or furniture item. Each product can only be one of these (unlike multi-label classification)."
   ]
  },
  {
   "cell_type": "markdown",
   "metadata": {},
   "source": [
    "Here’s how we’ll proceed to create and train a **perceptron with 2 inputs and 3 outputs** from scratch.\n",
    "\n",
    "\n",
    "## **Step 1: Define the Dataset**\n",
    "We’ll use dataset for a toy problem with 2 inputs $[x_1, x_2]$ and 3 binary outputs $[y_1, y_2, y_3]$.  \n",
    "\n",
    "| **$x_1$** | **$x_2$** | **$y_1$ (Cat)** | **$y_2$ (Dog)** | **$y_3$ (Tree)** |\n",
    "|------------|-------------|-------------------|-------------------|---------------------|\n",
    "| 0.8        | 0.1         | 1                 | 0                 | 0                   |\n",
    "| 0.2        | 0.9         | 0                 | 1                 | 1                   |\n",
    "| 0.6        | 0.6         | 1                 | 1                 | 0                   |\n",
    "| 0.9        | 0.2         | 1                 | 0                 | 0                   |\n",
    "| 0.4        | 0.7         | 0                 | 0                 | 1                   |\n",
    "\n",
    "\n",
    "> **Explanation**:  \n",
    "The two inputs $[x_1, x_2]$ might be features representing the image's overall brightness or color intensities. Each output column indicates whether an image contains a cat, dog, or tree.  \n",
    "\n",
    "---\n",
    "\n",
    "## **Step 2: Perceptron Architecture**\n",
    "The architecture for this perceptron is as follows:\n",
    "- **2 input neurons** (for $x_1$ and $x_2$)  \n",
    "- **3 output neurons** (for $y_1$, $y_2$, and $y_3$)\n",
    "\n",
    "### **Network Structure**\n",
    "\n",
    "<div style=\"display:flex;justify-content:center;\">\n",
    "<img src=\"images/perceptron_2_input_3_output.png\" style=\"width:500px;object-fit:cover;\" />\n",
    "<div>"
   ]
  },
  {
   "cell_type": "markdown",
   "metadata": {},
   "source": [
    "## **Step 3: Initialize Weights and Biases**\n",
    "Each of the 3 output neurons has its own set of weights $[w_{1,1}, w_{2,1}], [w_{1,2}, w_{2,2}], [w_{1,3}, w_{2,3}]$ for the two inputs and biases $[b_1, b_2, b_3]$.  \n",
    "\n",
    "Let's initialize them randomly.  \n",
    "- **Weights**: $W = \\begin{bmatrix} w_{1,1} & w_{2,1} \\\\ w_{1,2} & w_{2,2} \\\\ w_{1,3} & w_{2,3} \\end{bmatrix}$  \n",
    "- **Biases**: $b = [b_1, b_2, b_3]$  \n",
    "\n",
    "We’ll initialize them as small random numbers for simplicity.  \n",
    "\n",
    "---\n",
    "\n",
    "## **Step 4: Forward Propagation**\n",
    "For each output $y_k$, the perceptron performs the following computation:  \n",
    "$$\n",
    "y_k = \\text{step}(w_{1,k} \\cdot x_1 + w_{2,k} \\cdot x_2 + b_k)\n",
    "$$\n",
    "Where $\\text{step}(x)$ is the step activation function:  \n",
    "$$\n",
    "\\text{step}(x) = \\begin{cases} \n",
    "1 & \\text{if} \\ x \\geq 0 \\\\\n",
    "0 & \\text{if} \\ x < 0 \n",
    "\\end{cases}\n",
    "$$\n",
    "\n",
    "We compute this for all 3 output neurons $[y_1, y_2, y_3]$.  \n",
    "\n",
    "---\n",
    "\n",
    "## **Step 5: Perceptron Training**\n",
    "We use the **perceptron learning rule** to update the weights and biases.  \n",
    "$$\n",
    "w_{i,k} = w_{i,k} + \\eta \\cdot (y_{\\text{true}} - y_{\\text{pred}}) \\cdot x_i\n",
    "$$\n",
    "$$\n",
    "b_k = b_k + \\eta \\cdot (y_{\\text{true}} - y_{\\text{pred}})\n",
    "$$\n",
    "Where:\n",
    "- $\\eta$ is the learning rate (e.g., 0.1)  \n",
    "- $y_{\\text{true}}$ is the true output.  \n",
    "- $y_{\\text{pred}}$ is the perceptron output.  \n",
    "\n",
    "---\n",
    "\n",
    "## **Step 6: Implementation**\n",
    "Now, let’s visualize and compute one full training step.\n",
    "\n",
    "### **Explanation of Key Sections**\n",
    "1. **Dataset**: $X$ are the inputs, and $Y$ are the 3 binary outputs.  \n",
    "2. **Weights & Biases**: Randomly initialized weights $[w_{1,1}, w_{1,2}], [w_{2,1}, w_{2,2}], [w_{3,1}, w_{3,2}]$ and biases $[b_1, b_2, b_3]$.  \n",
    "3. **Forward Function**: Computes the perceptron output using weights, inputs, and biases.  \n",
    "4. **Training**: Uses the **Perceptron Learning Rule** to update weights and biases.  "
   ]
  },
  {
   "cell_type": "code",
   "execution_count": 33,
   "metadata": {},
   "outputs": [
    {
     "data": {
      "text/plain": [
       "(array([[ 0.39671415, -0.2382643 ],\n",
       "        [ 0.54768854,  1.32302986],\n",
       "        [-0.13415337, -0.03413696]]),\n",
       " array([ 1.37921282,  0.56743473, -0.26947439]))"
      ]
     },
     "execution_count": 33,
     "metadata": {},
     "output_type": "execute_result"
    }
   ],
   "source": [
    "import numpy as np\n",
    "\n",
    "# Step 1: Define dataset\n",
    "X = np.array([[0, 0], \n",
    "              [0, 1], \n",
    "              [1, 0], \n",
    "              [1, 1]])  # Inputs (x1, x2)\n",
    "\n",
    "Y = np.array([[0, 1, 0],  # Target outputs for y1, y2, y3\n",
    "              [1, 0, 1], \n",
    "              [1, 1, 0], \n",
    "              [0, 0, 1]])\n",
    "\n",
    "# Step 3: Define step function\n",
    "def step_function(x):\n",
    "    return np.where(x >= 0, 1, 0)\n",
    "\n",
    "# Step 4: Forward propagation\n",
    "def forward(X, W, b):\n",
    "    linear_output = np.dot(W, X) + b\n",
    "    return step_function(linear_output)\n",
    "\n",
    "# Step 5: Perceptron learning rule\n",
    "def train_perceptron(X, Y, learning_rate=0.1, epochs=10, echo=False):\n",
    "    # Step 2: Initialize weights and biases\n",
    "    np.random.seed(42)  # For reproducibility\n",
    "    W = np.random.randn(3, 2)  # Weights for 3 outputs and 2 inputs (3x2 matrix)\n",
    "    b = np.random.randn(3)     # Bias for 3 outputs\n",
    "\n",
    "    for epoch in range(epochs):\n",
    "        for i in range(len(X)):\n",
    "            x_i = X[i]         # Current input \n",
    "            y_true = Y[i]      # True target \n",
    "            y_pred = forward(x_i, W, b)  # Predicted output\n",
    "            \n",
    "            # Update weights and biases using Perceptron rule\n",
    "            error = y_true - y_pred\n",
    "            W += learning_rate * error[:, np.newaxis] * x_i  # Update weights for each output neuron\n",
    "            b += learning_rate * error  # Update biases for each output neuron\n",
    "            \n",
    "            if echo:\n",
    "                print(f\"Epoch {epoch + 1}, Sample {i + 1}\")\n",
    "                print(f\"Input: {x_i}, True: {y_true}, Predicted: {y_pred}\")\n",
    "                print(f\"Error: {error}\")\n",
    "                print(f\"Updated Weights: \\n{W}\")\n",
    "                print(f\"Updated Biases: {b}\\n\")\n",
    "\n",
    "    return W, b\n",
    "\n",
    "# Train the perceptron for a few epochs\n",
    "train_perceptron(X, Y, learning_rate=0.1, epochs=1)  # One epoch for demonstration"
   ]
  },
  {
   "cell_type": "code",
   "execution_count": 34,
   "metadata": {},
   "outputs": [],
   "source": [
    "import numpy as np\n",
    "from sklearn.datasets import load_iris\n",
    "from sklearn.linear_model import Perceptron\n",
    "import matplotlib.pyplot as plt\n",
    "\n",
    "iris = load_iris(as_frame=True)"
   ]
  },
  {
   "cell_type": "code",
   "execution_count": 35,
   "metadata": {},
   "outputs": [
    {
     "data": {
      "image/png": "[encoded data removed]",
      "text/plain": [
       "<Figure size 640x480 with 1 Axes>"
      ]
     },
     "metadata": {},
     "output_type": "display_data"
    }
   ],
   "source": [
    "X = iris.data[['petal length (cm)', 'petal width (cm)']].values\n",
    "plt.scatter(X[:, 0], X[:, 1], c=iris.target)\n",
    "plt.show()"
   ]
  },
  {
   "cell_type": "code",
   "execution_count": 36,
   "metadata": {},
   "outputs": [],
   "source": [
    "from sklearn.preprocessing import OneHotEncoder\n",
    "y = iris.target.values\n",
    "one_enc = OneHotEncoder()\n",
    "y = one_enc.fit_transform(y.reshape(y.shape[0], 1)).toarray()"
   ]
  },
  {
   "cell_type": "code",
   "execution_count": 37,
   "metadata": {},
   "outputs": [],
   "source": [
    "from sklearn.model_selection import train_test_split\n",
    "X_train, X_test, y_train, y_test = train_test_split(X, y)"
   ]
  },
  {
   "cell_type": "code",
   "execution_count": 38,
   "metadata": {},
   "outputs": [],
   "source": [
    "w_new, b_new = train_perceptron(X_train, y_train)"
   ]
  },
  {
   "cell_type": "code",
   "execution_count": 41,
   "metadata": {},
   "outputs": [
    {
     "data": {
      "text/plain": [
       "array([0, 0, 0])"
      ]
     },
     "execution_count": 41,
     "metadata": {},
     "output_type": "execute_result"
    }
   ],
   "source": [
    "x_new = np.array([4, 1.5])\n",
    "forward(x_new, w_new, b_new)"
   ]
  },
  {
   "cell_type": "code",
   "execution_count": 43,
   "metadata": {},
   "outputs": [
    {
     "data": {
      "text/plain": [
       "array([[0]])"
      ]
     },
     "execution_count": 43,
     "metadata": {},
     "output_type": "execute_result"
    }
   ],
   "source": [
    "one_enc.inverse_transform(np.array([[1, 0, 0]]))"
   ]
  },
  {
   "cell_type": "code",
   "execution_count": 25,
   "metadata": {},
   "outputs": [
    {
     "ename": "ValueError",
     "evalue": "y should be a 1d array, got an array of shape (112, 3) instead.",
     "output_type": "error",
     "traceback": [
      "\u001b[1;31m---------------------------------------------------------------------------\u001b[0m",
      "\u001b[1;31mValueError\u001b[0m                                Traceback (most recent call last)",
      "Cell \u001b[1;32mIn[25], line 2\u001b[0m\n\u001b[0;32m      1\u001b[0m per_clf \u001b[38;5;241m=\u001b[39m Perceptron(random_state\u001b[38;5;241m=\u001b[39m\u001b[38;5;241m42\u001b[39m)\n\u001b[1;32m----> 2\u001b[0m \u001b[43mper_clf\u001b[49m\u001b[38;5;241;43m.\u001b[39;49m\u001b[43mfit\u001b[49m\u001b[43m(\u001b[49m\u001b[43mX_train\u001b[49m\u001b[43m,\u001b[49m\u001b[43m \u001b[49m\u001b[43my_train\u001b[49m\u001b[43m)\u001b[49m\n\u001b[0;32m      4\u001b[0m X_new \u001b[38;5;241m=\u001b[39m [[\u001b[38;5;241m2\u001b[39m, \u001b[38;5;241m0.5\u001b[39m], [\u001b[38;5;241m3\u001b[39m, \u001b[38;5;241m1\u001b[39m]]\n\u001b[0;32m      5\u001b[0m y_pred \u001b[38;5;241m=\u001b[39m per_clf\u001b[38;5;241m.\u001b[39mpredict(X_new)\n",
      "File \u001b[1;32mc:\\Python\\Python3.10.11\\lib\\site-packages\\sklearn\\base.py:1473\u001b[0m, in \u001b[0;36m_fit_context.<locals>.decorator.<locals>.wrapper\u001b[1;34m(estimator, *args, **kwargs)\u001b[0m\n\u001b[0;32m   1466\u001b[0m     estimator\u001b[38;5;241m.\u001b[39m_validate_params()\n\u001b[0;32m   1468\u001b[0m \u001b[38;5;28;01mwith\u001b[39;00m config_context(\n\u001b[0;32m   1469\u001b[0m     skip_parameter_validation\u001b[38;5;241m=\u001b[39m(\n\u001b[0;32m   1470\u001b[0m         prefer_skip_nested_validation \u001b[38;5;129;01mor\u001b[39;00m global_skip_validation\n\u001b[0;32m   1471\u001b[0m     )\n\u001b[0;32m   1472\u001b[0m ):\n\u001b[1;32m-> 1473\u001b[0m     \u001b[38;5;28;01mreturn\u001b[39;00m fit_method(estimator, \u001b[38;5;241m*\u001b[39margs, \u001b[38;5;241m*\u001b[39m\u001b[38;5;241m*\u001b[39mkwargs)\n",
      "File \u001b[1;32mc:\\Python\\Python3.10.11\\lib\\site-packages\\sklearn\\linear_model\\_stochastic_gradient.py:938\u001b[0m, in \u001b[0;36mBaseSGDClassifier.fit\u001b[1;34m(self, X, y, coef_init, intercept_init, sample_weight)\u001b[0m\n\u001b[0;32m    909\u001b[0m \u001b[38;5;250m\u001b[39m\u001b[38;5;124;03m\"\"\"Fit linear model with Stochastic Gradient Descent.\u001b[39;00m\n\u001b[0;32m    910\u001b[0m \n\u001b[0;32m    911\u001b[0m \u001b[38;5;124;03mParameters\u001b[39;00m\n\u001b[1;32m   (...)\u001b[0m\n\u001b[0;32m    934\u001b[0m \u001b[38;5;124;03m    Returns an instance of self.\u001b[39;00m\n\u001b[0;32m    935\u001b[0m \u001b[38;5;124;03m\"\"\"\u001b[39;00m\n\u001b[0;32m    936\u001b[0m \u001b[38;5;28mself\u001b[39m\u001b[38;5;241m.\u001b[39m_more_validate_params()\n\u001b[1;32m--> 938\u001b[0m \u001b[38;5;28;01mreturn\u001b[39;00m \u001b[38;5;28;43mself\u001b[39;49m\u001b[38;5;241;43m.\u001b[39;49m\u001b[43m_fit\u001b[49m\u001b[43m(\u001b[49m\n\u001b[0;32m    939\u001b[0m \u001b[43m    \u001b[49m\u001b[43mX\u001b[49m\u001b[43m,\u001b[49m\n\u001b[0;32m    940\u001b[0m \u001b[43m    \u001b[49m\u001b[43my\u001b[49m\u001b[43m,\u001b[49m\n\u001b[0;32m    941\u001b[0m \u001b[43m    \u001b[49m\u001b[43malpha\u001b[49m\u001b[38;5;241;43m=\u001b[39;49m\u001b[38;5;28;43mself\u001b[39;49m\u001b[38;5;241;43m.\u001b[39;49m\u001b[43malpha\u001b[49m\u001b[43m,\u001b[49m\n\u001b[0;32m    942\u001b[0m \u001b[43m    \u001b[49m\u001b[43mC\u001b[49m\u001b[38;5;241;43m=\u001b[39;49m\u001b[38;5;241;43m1.0\u001b[39;49m\u001b[43m,\u001b[49m\n\u001b[0;32m    943\u001b[0m \u001b[43m    \u001b[49m\u001b[43mloss\u001b[49m\u001b[38;5;241;43m=\u001b[39;49m\u001b[38;5;28;43mself\u001b[39;49m\u001b[38;5;241;43m.\u001b[39;49m\u001b[43mloss\u001b[49m\u001b[43m,\u001b[49m\n\u001b[0;32m    944\u001b[0m \u001b[43m    \u001b[49m\u001b[43mlearning_rate\u001b[49m\u001b[38;5;241;43m=\u001b[39;49m\u001b[38;5;28;43mself\u001b[39;49m\u001b[38;5;241;43m.\u001b[39;49m\u001b[43mlearning_rate\u001b[49m\u001b[43m,\u001b[49m\n\u001b[0;32m    945\u001b[0m \u001b[43m    \u001b[49m\u001b[43mcoef_init\u001b[49m\u001b[38;5;241;43m=\u001b[39;49m\u001b[43mcoef_init\u001b[49m\u001b[43m,\u001b[49m\n\u001b[0;32m    946\u001b[0m \u001b[43m    \u001b[49m\u001b[43mintercept_init\u001b[49m\u001b[38;5;241;43m=\u001b[39;49m\u001b[43mintercept_init\u001b[49m\u001b[43m,\u001b[49m\n\u001b[0;32m    947\u001b[0m \u001b[43m    \u001b[49m\u001b[43msample_weight\u001b[49m\u001b[38;5;241;43m=\u001b[39;49m\u001b[43msample_weight\u001b[49m\u001b[43m,\u001b[49m\n\u001b[0;32m    948\u001b[0m \u001b[43m\u001b[49m\u001b[43m)\u001b[49m\n",
      "File \u001b[1;32mc:\\Python\\Python3.10.11\\lib\\site-packages\\sklearn\\linear_model\\_stochastic_gradient.py:704\u001b[0m, in \u001b[0;36mBaseSGDClassifier._fit\u001b[1;34m(self, X, y, alpha, C, loss, learning_rate, coef_init, intercept_init, sample_weight)\u001b[0m\n\u001b[0;32m    694\u001b[0m     warnings\u001b[38;5;241m.\u001b[39mwarn(\n\u001b[0;32m    695\u001b[0m         (\n\u001b[0;32m    696\u001b[0m             \u001b[38;5;124m\"\u001b[39m\u001b[38;5;124mPassing average=0 to disable averaging is deprecated and will be \u001b[39m\u001b[38;5;124m\"\u001b[39m\n\u001b[1;32m   (...)\u001b[0m\n\u001b[0;32m    699\u001b[0m         \u001b[38;5;167;01mFutureWarning\u001b[39;00m,\n\u001b[0;32m    700\u001b[0m     )\n\u001b[0;32m    702\u001b[0m \u001b[38;5;66;03m# labels can be encoded as float, int, or string literals\u001b[39;00m\n\u001b[0;32m    703\u001b[0m \u001b[38;5;66;03m# np.unique sorts in asc order; largest class id is positive class\u001b[39;00m\n\u001b[1;32m--> 704\u001b[0m y \u001b[38;5;241m=\u001b[39m \u001b[38;5;28;43mself\u001b[39;49m\u001b[38;5;241;43m.\u001b[39;49m\u001b[43m_validate_data\u001b[49m\u001b[43m(\u001b[49m\u001b[43my\u001b[49m\u001b[38;5;241;43m=\u001b[39;49m\u001b[43my\u001b[49m\u001b[43m)\u001b[49m\n\u001b[0;32m    705\u001b[0m classes \u001b[38;5;241m=\u001b[39m np\u001b[38;5;241m.\u001b[39munique(y)\n\u001b[0;32m    707\u001b[0m \u001b[38;5;28;01mif\u001b[39;00m \u001b[38;5;28mself\u001b[39m\u001b[38;5;241m.\u001b[39mwarm_start \u001b[38;5;129;01mand\u001b[39;00m \u001b[38;5;28mhasattr\u001b[39m(\u001b[38;5;28mself\u001b[39m, \u001b[38;5;124m\"\u001b[39m\u001b[38;5;124mcoef_\u001b[39m\u001b[38;5;124m\"\u001b[39m):\n",
      "File \u001b[1;32mc:\\Python\\Python3.10.11\\lib\\site-packages\\sklearn\\base.py:635\u001b[0m, in \u001b[0;36mBaseEstimator._validate_data\u001b[1;34m(self, X, y, reset, validate_separately, cast_to_ndarray, **check_params)\u001b[0m\n\u001b[0;32m    633\u001b[0m     out \u001b[38;5;241m=\u001b[39m check_array(X, input_name\u001b[38;5;241m=\u001b[39m\u001b[38;5;124m\"\u001b[39m\u001b[38;5;124mX\u001b[39m\u001b[38;5;124m\"\u001b[39m, \u001b[38;5;241m*\u001b[39m\u001b[38;5;241m*\u001b[39mcheck_params)\n\u001b[0;32m    634\u001b[0m \u001b[38;5;28;01melif\u001b[39;00m no_val_X \u001b[38;5;129;01mand\u001b[39;00m \u001b[38;5;129;01mnot\u001b[39;00m no_val_y:\n\u001b[1;32m--> 635\u001b[0m     out \u001b[38;5;241m=\u001b[39m _check_y(y, \u001b[38;5;241m*\u001b[39m\u001b[38;5;241m*\u001b[39mcheck_params)\n\u001b[0;32m    636\u001b[0m \u001b[38;5;28;01melse\u001b[39;00m:\n\u001b[0;32m    637\u001b[0m     \u001b[38;5;28;01mif\u001b[39;00m validate_separately:\n\u001b[0;32m    638\u001b[0m         \u001b[38;5;66;03m# We need this because some estimators validate X and y\u001b[39;00m\n\u001b[0;32m    639\u001b[0m         \u001b[38;5;66;03m# separately, and in general, separately calling check_array()\u001b[39;00m\n\u001b[0;32m    640\u001b[0m         \u001b[38;5;66;03m# on X and y isn't equivalent to just calling check_X_y()\u001b[39;00m\n\u001b[0;32m    641\u001b[0m         \u001b[38;5;66;03m# :(\u001b[39;00m\n",
      "File \u001b[1;32mc:\\Python\\Python3.10.11\\lib\\site-packages\\sklearn\\utils\\validation.py:1339\u001b[0m, in \u001b[0;36m_check_y\u001b[1;34m(y, multi_output, y_numeric, estimator)\u001b[0m\n\u001b[0;32m   1337\u001b[0m \u001b[38;5;28;01melse\u001b[39;00m:\n\u001b[0;32m   1338\u001b[0m     estimator_name \u001b[38;5;241m=\u001b[39m _check_estimator_name(estimator)\n\u001b[1;32m-> 1339\u001b[0m     y \u001b[38;5;241m=\u001b[39m \u001b[43mcolumn_or_1d\u001b[49m\u001b[43m(\u001b[49m\u001b[43my\u001b[49m\u001b[43m,\u001b[49m\u001b[43m \u001b[49m\u001b[43mwarn\u001b[49m\u001b[38;5;241;43m=\u001b[39;49m\u001b[38;5;28;43;01mTrue\u001b[39;49;00m\u001b[43m)\u001b[49m\n\u001b[0;32m   1340\u001b[0m     _assert_all_finite(y, input_name\u001b[38;5;241m=\u001b[39m\u001b[38;5;124m\"\u001b[39m\u001b[38;5;124my\u001b[39m\u001b[38;5;124m\"\u001b[39m, estimator_name\u001b[38;5;241m=\u001b[39mestimator_name)\n\u001b[0;32m   1341\u001b[0m     _ensure_no_complex_data(y)\n",
      "File \u001b[1;32mc:\\Python\\Python3.10.11\\lib\\site-packages\\sklearn\\utils\\validation.py:1406\u001b[0m, in \u001b[0;36mcolumn_or_1d\u001b[1;34m(y, dtype, warn)\u001b[0m\n\u001b[0;32m   1395\u001b[0m         warnings\u001b[38;5;241m.\u001b[39mwarn(\n\u001b[0;32m   1396\u001b[0m             (\n\u001b[0;32m   1397\u001b[0m                 \u001b[38;5;124m\"\u001b[39m\u001b[38;5;124mA column-vector y was passed when a 1d array was\u001b[39m\u001b[38;5;124m\"\u001b[39m\n\u001b[1;32m   (...)\u001b[0m\n\u001b[0;32m   1402\u001b[0m             stacklevel\u001b[38;5;241m=\u001b[39m\u001b[38;5;241m2\u001b[39m,\n\u001b[0;32m   1403\u001b[0m         )\n\u001b[0;32m   1404\u001b[0m     \u001b[38;5;28;01mreturn\u001b[39;00m _asarray_with_order(xp\u001b[38;5;241m.\u001b[39mreshape(y, (\u001b[38;5;241m-\u001b[39m\u001b[38;5;241m1\u001b[39m,)), order\u001b[38;5;241m=\u001b[39m\u001b[38;5;124m\"\u001b[39m\u001b[38;5;124mC\u001b[39m\u001b[38;5;124m\"\u001b[39m, xp\u001b[38;5;241m=\u001b[39mxp)\n\u001b[1;32m-> 1406\u001b[0m \u001b[38;5;28;01mraise\u001b[39;00m \u001b[38;5;167;01mValueError\u001b[39;00m(\n\u001b[0;32m   1407\u001b[0m     \u001b[38;5;124m\"\u001b[39m\u001b[38;5;124my should be a 1d array, got an array of shape \u001b[39m\u001b[38;5;132;01m{}\u001b[39;00m\u001b[38;5;124m instead.\u001b[39m\u001b[38;5;124m\"\u001b[39m\u001b[38;5;241m.\u001b[39mformat(shape)\n\u001b[0;32m   1408\u001b[0m )\n",
      "\u001b[1;31mValueError\u001b[0m: y should be a 1d array, got an array of shape (112, 3) instead."
     ]
    }
   ],
   "source": [
    "per_clf = Perceptron(random_state=42)\n",
    "per_clf.fit(X_train, y_train)\n",
    "\n",
    "X_new = [[2, 0.5], [3, 1]]\n",
    "y_pred = per_clf.predict(X_new)"
   ]
  },
  {
   "cell_type": "code",
   "execution_count": 8,
   "metadata": {},
   "outputs": [
    {
     "data": {
      "text/plain": [
       "array([0, 0])"
      ]
     },
     "execution_count": 8,
     "metadata": {},
     "output_type": "execute_result"
    }
   ],
   "source": [
    "y_pred"
   ]
  },
  {
   "cell_type": "code",
   "execution_count": null,
   "metadata": {},
   "outputs": [],
   "source": []
  }
 ],
 "metadata": {
  "kernelspec": {
   "display_name": "Python 3",
   "language": "python",
   "name": "python3"
  },
  "language_info": {
   "codemirror_mode": {
    "name": "ipython",
    "version": 3
   },
   "file_extension": ".py",
   "mimetype": "text/x-python",
   "name": "python",
   "nbconvert_exporter": "python",
   "pygments_lexer": "ipython3",
   "version": "3.10.11"
  }
 },
 "nbformat": 4,
 "nbformat_minor": 2
}
