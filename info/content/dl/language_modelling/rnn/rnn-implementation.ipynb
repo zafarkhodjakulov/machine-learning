{
 "cells": [
  {
   "cell_type": "code",
   "execution_count": 1,
   "metadata": {},
   "outputs": [
    {
     "name": "stdout",
     "output_type": "stream",
     "text": [
      "Is running colab? False\n"
     ]
    }
   ],
   "source": [
    "from pathlib import Path\n",
    "\n",
    "is_colab = True\n",
    "\n",
    "try:\n",
    "    from google.colab import drive\n",
    "\n",
    "    drive.mount('/content/drive')\n",
    "except ModuleNotFoundError:\n",
    "    is_colab = False\n",
    "\n",
    "print(\"Is running colab?\", is_colab)"
   ]
  },
  {
   "cell_type": "code",
   "execution_count": 2,
   "metadata": {},
   "outputs": [
    {
     "name": "stdout",
     "output_type": "stream",
     "text": [
      "D:\\ai-roadmap\\content\\dl\\language_modelling\\rnn\\data\n"
     ]
    }
   ],
   "source": [
    "if is_colab:\n",
    "    data_dir = Path('/content/drive/MyDrive/data')\n",
    "    code_dir = Path('/content/drive/MyDrive/code')\n",
    "    models_dir = Path('/content/drive/MyDrive/models/rnn')\n",
    "else:\n",
    "    data_dir = Path('data').resolve()\n",
    "    models_dir = Path('models').resolve()\n",
    "\n",
    "print(data_dir)"
   ]
  },
  {
   "cell_type": "code",
   "execution_count": 3,
   "metadata": {},
   "outputs": [],
   "source": [
    "if is_colab:\n",
    "    import shutil\n",
    "    shutil.copy(code_dir / 'rnn/dataset.py',\n",
    "                'dataset.py')\n",
    "\n",
    "    shutil.copy(code_dir / 'rnn/chars.json',\n",
    "                'chars.json')"
   ]
  },
  {
   "cell_type": "code",
   "execution_count": 4,
   "metadata": {},
   "outputs": [
    {
     "name": "stdout",
     "output_type": "stream",
     "text": [
      "device: cpu\n"
     ]
    }
   ],
   "source": [
    "import torch\n",
    "import torch.nn as nn\n",
    "import torch.nn.functional as F\n",
    "import torch.optim as optim\n",
    "from torch.utils.data import DataLoader\n",
    "import matplotlib.pyplot as plt\n",
    "\n",
    "from dataset import get_all_stories, get_dataset, CharacterLevelTokenizer\n",
    "\n",
    "device = torch.device('cuda' if torch.cuda.is_available() else 'cpu')\n",
    "print(\"device:\", device)"
   ]
  },
  {
   "cell_type": "code",
   "execution_count": 5,
   "metadata": {},
   "outputs": [],
   "source": [
    "train_stories, val_stories, test_stories = get_all_stories(data_dir)"
   ]
  },
  {
   "cell_type": "code",
   "execution_count": 6,
   "metadata": {},
   "outputs": [],
   "source": [
    "tokenizer = CharacterLevelTokenizer()\n",
    "vocab_size = tokenizer.vocab_size"
   ]
  },
  {
   "cell_type": "code",
   "execution_count": 7,
   "metadata": {},
   "outputs": [],
   "source": [
    "block_size=8\n",
    "Ds_tr = get_dataset(train_stories, tokenizer, block_size=block_size)\n",
    "Ds_val = get_dataset(val_stories, tokenizer, block_size=block_size)\n",
    "Ds_test = get_dataset(test_stories, tokenizer, block_size=block_size)"
   ]
  },
  {
   "cell_type": "code",
   "execution_count": 8,
   "metadata": {},
   "outputs": [],
   "source": [
    "Xtr, Ytr = Ds_tr.tensors\n",
    "Xval, Yval = Ds_val.tensors"
   ]
  },
  {
   "cell_type": "code",
   "execution_count": 9,
   "metadata": {},
   "outputs": [
    {
     "name": "stdout",
     "output_type": "stream",
     "text": [
      "tensor([[ 0, 14,  2,  ..., 35, 18, 27],\n",
      "        [14,  2, 31,  ..., 18, 27,  2],\n",
      "        [ 2, 31, 14,  ..., 27,  2, 14],\n",
      "        ...,\n",
      "        [46,  2, 55,  ..., 45, 58, 59],\n",
      "        [ 2, 55, 60,  ..., 58, 59,  8],\n",
      "        [55, 60, 48,  ..., 59,  8, 40]])\n",
      "tensor([[14,  2, 31,  ..., 18, 27,  2],\n",
      "        [ 2, 31, 14,  ..., 27,  2, 14],\n",
      "        [31, 14, 35,  ...,  2, 14, 27],\n",
      "        ...,\n",
      "        [ 2, 55, 60,  ..., 58, 59,  8],\n",
      "        [55, 60, 48,  ..., 59,  8, 40],\n",
      "        [60, 48, 45,  ...,  8, 40,  0]])\n"
     ]
    }
   ],
   "source": [
    "print(Xtr)\n",
    "print(Ytr)"
   ]
  },
  {
   "cell_type": "code",
   "execution_count": 10,
   "metadata": {},
   "outputs": [],
   "source": [
    "Tr_loader = DataLoader(Ds_tr, batch_size=4)\n",
    "Val_loader = DataLoader(Ds_val, batch_size=4)\n",
    "Test_loader = DataLoader(Ds_test, batch_size=4)"
   ]
  },
  {
   "cell_type": "code",
   "execution_count": 28,
   "metadata": {},
   "outputs": [],
   "source": [
    "@torch.no_grad()\n",
    "def find_loss(model, X, Y):\n",
    "    model.eval()\n",
    "    X, Y = X.to(device), Y.to(device)\n",
    "    # logits = model(X)\n",
    "    # loss = F.cross_entropy(logits, F.one_hot(Y, vocab_size).float())\n",
    "    logits = logits.view(-1, vocab_size)\n",
    "    loss = F.cross_entropy(logits, Y.view(-1))\n",
    "\n",
    "    # for param in bigram_model.parameters():\n",
    "    #     loss += param.pow(2).mean().sqrt()\n",
    "    return loss.item()"
   ]
  },
  {
   "cell_type": "code",
   "execution_count": null,
   "metadata": {},
   "outputs": [],
   "source": [
    "class LSTM(nn.Module):\n",
    "    def __init__(self, vocab_size, n_dim, n_hidden):\n",
    "        super().__init__()\n",
    "        self.vocab_size = vocab_size\n",
    "        self.n_dim = n_dim\n",
    "        self.n_hidden = n_hidden\n",
    "        self.emb = nn.Embedding(vocab_size, n_dim)\n",
    "        self.rnn = nn.RNN(n_dim, n_hidden, batch_first=True)\n",
    "        self.fc = nn.Linear(n_hidden, vocab_size)\n",
    "\n",
    "    # def forward(self, x):\n",
    "    #     h0 = self.init_hidden(x)\n",
    "    #     out = self.emb(x)\n",
    "    #     out, _ = self.rnn(out, h0)\n",
    "    #     out = torch.tanh(out)\n",
    "    #     out = self.fc(out)\n",
    "    #     return out\n",
    "    \n",
    "    def forward(self, x, h0=None):\n",
    "        h0 = h0 if h0 is not None else self.init_hidden(x)\n",
    "        out = self.emb(x)\n",
    "        out, hn = self.rnn(out, h0)\n",
    "        out = torch.tanh(out)\n",
    "        out = self.fc(out)\n",
    "        return out, hn\n",
    "    \n",
    "    def init_hidden(self, x):\n",
    "        b, t = x.shape\n",
    "        return torch.zeros(1, b, self.n_hidden).to(device)"
   ]
  },
  {
   "cell_type": "code",
   "execution_count": null,
   "metadata": {},
   "outputs": [],
   "source": [
    "model = LSTM(vocab_size, n_dim=32, n_hidden=100).to(device)\n",
    "optimizer = optim.SGD(model.parameters())\n",
    "criterion = nn.CrossEntropyLoss()"
   ]
  },
  {
   "cell_type": "code",
   "execution_count": 15,
   "metadata": {},
   "outputs": [],
   "source": [
    "all_loss = []"
   ]
  },
  {
   "cell_type": "code",
   "execution_count": 34,
   "metadata": {},
   "outputs": [],
   "source": [
    "def train(model, loader, epochs, optimizer, criterion, save_path):\n",
    "    all_loss = []\n",
    "    \n",
    "    for epoch in range(epochs):\n",
    "        lossi = []\n",
    "        model.train()  # Set the model to training mode\n",
    "\n",
    "        for x, y in loader:\n",
    "            x, y = x.to(device), y.to(device)\n",
    "\n",
    "            # Initialize hidden state\n",
    "            h0 = model.init_hidden(x)  # (num_layers=1, batch_size, hidden_size)\n",
    "\n",
    "            # Forward pass\n",
    "            logits, _ = model(x, h0)\n",
    "\n",
    "            # Compute loss\n",
    "            loss = criterion(logits.view(-1, vocab_size), y.view(-1))\n",
    "\n",
    "            # Backpropagation\n",
    "            optimizer.zero_grad()\n",
    "            loss.backward()\n",
    "            optimizer.step()\n",
    "\n",
    "            lossi.append(loss.item())\n",
    "\n",
    "        all_loss.extend(lossi)\n",
    "\n",
    "        # Save the model after each epoch\n",
    "        torch.save(model.state_dict(), save_path / f'model_epoch{epoch+1}.pth')\n",
    "\n",
    "        print(\n",
    "            f\"Epoch {epoch+1}/{epochs}, \"\n",
    "            f\"Avg Loss: {torch.tensor(lossi).mean():.3f}\"\n",
    "        )\n"
   ]
  },
  {
   "cell_type": "code",
   "execution_count": 35,
   "metadata": {},
   "outputs": [
    {
     "name": "stdout",
     "output_type": "stream",
     "text": [
      "Epoch 1/2, Avg Loss: 2.998\n",
      "Epoch 2/2, Avg Loss: 2.586\n"
     ]
    }
   ],
   "source": [
    "train(model, Tr_loader, epochs=2, optimizer=optimizer, criterion=criterion, save_path=models_dir)"
   ]
  },
  {
   "cell_type": "code",
   "execution_count": 20,
   "metadata": {},
   "outputs": [
    {
     "data": {
      "image/png": "[encoded data removed]",
      "text/plain": [
       "<Figure size 640x480 with 1 Axes>"
      ]
     },
     "metadata": {},
     "output_type": "display_data"
    }
   ],
   "source": [
    "n = 1000\n",
    "plt.plot(torch.tensor(all_loss[:len(all_loss) // n * n]).view(-1, n).mean(1))\n",
    "plt.show()"
   ]
  },
  {
   "cell_type": "code",
   "execution_count": 24,
   "metadata": {},
   "outputs": [],
   "source": [
    "import torch\n",
    "\n",
    "@torch.no_grad()\n",
    "def generate(model, block_size=8, start_token=0, generator=None, k=None, max_length=50):\n",
    "    model.eval()\n",
    "    \n",
    "    # Initialize context window with `block_size` start tokens\n",
    "    context = [start_token] * block_size  \n",
    "    out = []\n",
    "\n",
    "    for _ in range(max_length):  # Prevent infinite loops\n",
    "        # Convert to tensor and ensure correct shape (batch_size=1)\n",
    "        input_tensor = torch.tensor([context], dtype=torch.long).to(next(model.parameters()).device)\n",
    "\n",
    "        # Forward pass through the model\n",
    "        logits = model(input_tensor)[:, -1, :]  # Get logits for last token\n",
    "\n",
    "        # Apply top-k filtering if needed\n",
    "        if k:\n",
    "            top_k_values, top_k_indices = torch.topk(logits, k)\n",
    "            top_k_mask = torch.full_like(logits, float('-inf'))\n",
    "            top_k_mask.scatter_(1, top_k_indices, top_k_values)\n",
    "            logits = top_k_mask\n",
    "\n",
    "        # Convert logits to probabilities\n",
    "        p = torch.softmax(logits, dim=-1)\n",
    "\n",
    "        # Sample next token\n",
    "        ix = torch.multinomial(p, num_samples=1, replacement=True, generator=generator).item()\n",
    "\n",
    "        if ix == start_token:\n",
    "            break  # Stop if we reach the start token (assuming it's also the EOS token)\n",
    "\n",
    "        out.append(ix)\n",
    "\n",
    "        # Update context window (keep last `block_size` tokens)\n",
    "        context = context[1:] + [ix]\n",
    "\n",
    "    return out\n"
   ]
  },
  {
   "cell_type": "code",
   "execution_count": 25,
   "metadata": {},
   "outputs": [
    {
     "name": "stdout",
     "output_type": "stream",
     "text": [
      "THB tur. Bis ale too here an shous wounding suthired the sourd hack wof ind angimse then where.\n",
      "\n",
      "\"E Thang botert\n",
      "in dowiceat, soris oud wowich she ceayd the bered\n",
      "\n",
      "roun to cid thet.\n",
      "\"THo foote fonere hings as ingtte at the bur thend ce insto frot thind is he sir cids, fedts the worn tor fury, the pairy and teas bout hiot at ste fot with.e AHowhas be sastre soo the\n",
      "\n",
      "to anch bnd he stuls and the bong be to the was the dfand owat thenchard hel\n",
      "eind\n",
      "oole ound sthise sof thonged tise dt thir hie at inted he cit.e Aell\n",
      "\n",
      "ishtels ond arsand a a shin oing.in the cay the chey the hey ad foutey han bre bas\n",
      "the he calle thid\n",
      "to ared, ott the had the deetteeder.\n",
      "THO mur. The drsar. hem thom the ase wate wase cirg hilister sto to and bit the se culed hed boungess, and tf he helley hed casly found sromleyd thineng, fupel, wand hid are cus\n",
      "rat bhed to fale be at stel fow atly hied fadimid her.\n",
      "\n",
      "\n",
      "A the delland whinentoo hat thele, hasense hanged fheat,. wom whit ie the and.\n",
      "\n",
      "\n",
      "he cinging hals he calayter thes the crernd ffuclle fant wot ad\n",
      "y ond wath the cil and oot.\n",
      ".A I he himd wond bow sad wray hinke to be thand owie alete hesere telseacala blid hes antto tad and thing\n",
      "\n",
      "Th ofes the bes we to caroad to has ant a wow ass we hin tus thas they, hald th a hes bous\n",
      "id of and tad bhen hh buls tolis saslent ther and to thad chyos story wlis anl.\n",
      "\n",
      "\"Whe\n",
      "\n",
      "ronn that ter.ingt the peater sorthey trer in ar in seatied thean one and a as. \"ud flatone ware aont ler the prrer sfat she wid the sore and\n",
      "\n",
      "hin thit htr,\n",
      "\n",
      "he corsto wes bay timl the thit. Ahe ceely.\n",
      "\n",
      "\n",
      "ore heriss iot, ofith the was at sroutheld, haste\n",
      "stale here the fuls wet wathess. TIeace wh he wans fond badimickey fof he withor othed the sert a at ound. woowher the sher, thitg the sast bnd seal hat wiow thint as a duly furted to fromennt tiote woughis wfthet ongese he sereas the shast hime as heald and ther wame fould\n",
      "the per sher warn the sels tr on ad and crure he he stick sut sof aimie stthes, blo lreld hals onden tor and a the cart\n"
     ]
    }
   ],
   "source": [
    "g = torch.Generator(device=device).manual_seed(42)\n",
    "ids = generate(model, generator=g, k=10, max_length=2000)\n",
    "\n",
    "print(tokenizer.decode(ids))"
   ]
  },
  {
   "cell_type": "code",
   "execution_count": 27,
   "metadata": {},
   "outputs": [
    {
     "name": "stdout",
     "output_type": "stream",
     "text": [
      " a tors and th and phe, that his the best heas wad no sellland thad. THH Mout he he mulil woon a boud atll\n",
      "\n",
      "othernothis shed ping the\n",
      "\n",
      "The, atder he to soallp.A\n",
      "ST_I ander ins fof\n",
      "onllonecerd\n",
      "\n",
      "ath yor the dat of oo w wyot hisker sownish lhe poud tthe bat the bite was,it fong it hane and sore g of ans. FHE Tho\n",
      " founker hecirsey gop and\n",
      "ics ros ayoay wety he\n",
      "yowolledr ary dentithay hing he lns coingind. Ait the caind sh\n",
      "hin out irs fom sug.\"\n",
      "\n",
      "THE Brd\n",
      "yomts. Mime, hay hiyd fret hone ang coul he did thide oumg the natt whem tomed the be lidt at ieller gas itll spedttoun, lintther wus forouthis oon owent ways ine chew aring fou the fat wooo fomter the coyldipds ang.\n",
      "\n",
      "So ge wats blet sheat at and tig hersateng.\n",
      "\n",
      "\n",
      "ho the dak aout.\n",
      "\n",
      "\n",
      "he thanly we be mod te to tited the ther, on th on and tar at the cind this fnof rtims thame mousst and lofred the pild a male wffredr had, ont ool at lin shind heas thameds airst here am. hil mus celdn.a wou,g he suos ins shies, ftourket to hishen imkid nthe hitlind lireler, aty the drite wor as wot ler, rids to woasl himl.\n",
      "\n",
      "\"Whersime hed hit shito alt thes aooun frut a chak\n",
      "athas.,\n",
      "Wouldace wayn wof af for whe gous wiot sad shinh to whom mat hid, the selr\n",
      ".\"_HE A Thamg to to sron, thead.\"I tto seimed ise\n",
      ", ouseings the cead, fofe weely pald one, she sfllat\n",
      "ing angir prount to dad time hele and fhe hag tole oond the ancll. AH adl tof to ngt he faly tim the hald ang iee iiseat sag of alof, int to filerd slewe or, a tis, ato boald he lal sise ath ao dintint he waonsto thing ther, ly, it out he s orinorel su has as at the comg as she andy ard him mfaild tos wishare se afrt cere intr ofer.l\n",
      "\"_un, thean tut hish her.\n",
      "\n",
      "Theng this.s Ahatt all,h tirithe aros and whin an dest ffele arowt wous ale walnt wh altiche that dlery won ill ansts ais the wol ally tfon the loos, lous shime sast thim nol tow the and le cond crary and barl\n",
      "\n",
      "\n",
      "hes oo ther he goud lith ling ald nale ind hat\n",
      "ldishe hurta oans hasther tirs, the de ofsted hing, tnoand hisead baked the d\n"
     ]
    }
   ],
   "source": [
    "ids = generate(model, k=15, max_length=2000)\n",
    "\n",
    "print(tokenizer.decode(ids))"
   ]
  },
  {
   "cell_type": "code",
   "execution_count": null,
   "metadata": {},
   "outputs": [],
   "source": []
  }
 ],
 "metadata": {
  "kernelspec": {
   "display_name": "Python 3",
   "language": "python",
   "name": "python3"
  },
  "language_info": {
   "codemirror_mode": {
    "name": "ipython",
    "version": 3
   },
   "file_extension": ".py",
   "mimetype": "text/x-python",
   "name": "python",
   "nbconvert_exporter": "python",
   "pygments_lexer": "ipython3",
   "version": "3.10.11"
  }
 },
 "nbformat": 4,
 "nbformat_minor": 2
}
