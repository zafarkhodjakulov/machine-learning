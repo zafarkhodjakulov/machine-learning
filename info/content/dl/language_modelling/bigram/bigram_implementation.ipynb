{
 "cells": [
  {
   "cell_type": "markdown",
   "metadata": {},
   "source": [
    "- Bigram Language Model"
   ]
  },
  {
   "cell_type": "code",
   "execution_count": 1,
   "metadata": {},
   "outputs": [
    {
     "name": "stdout",
     "output_type": "stream",
     "text": [
      "Is running colab? False\n"
     ]
    }
   ],
   "source": [
    "from pathlib import Path\n",
    "\n",
    "is_colab = True\n",
    "\n",
    "try:\n",
    "    from google.colab import drive\n",
    "\n",
    "    drive.mount('/content/drive')\n",
    "except ModuleNotFoundError:\n",
    "    is_colab = False\n",
    "\n",
    "print(\"Is running colab?\", is_colab)"
   ]
  },
  {
   "cell_type": "code",
   "execution_count": 2,
   "metadata": {},
   "outputs": [
    {
     "name": "stdout",
     "output_type": "stream",
     "text": [
      "D:\\ai-roadmap\\content\\dl\\bigram\\data\n"
     ]
    }
   ],
   "source": [
    "if is_colab:\n",
    "    data_dir = Path('/content/drive/MyDrive/data')\n",
    "    code_dir = Path('/content/drive/MyDrive/code')\n",
    "else:\n",
    "    data_dir = Path('data').resolve()\n",
    "\n",
    "print(data_dir)"
   ]
  },
  {
   "cell_type": "code",
   "execution_count": null,
   "metadata": {},
   "outputs": [],
   "source": [
    "if is_colab:\n",
    "    import shutil\n",
    "    shutil.copy(code_dir / 'bigram/dataset.py',\n",
    "                'dataset.py')\n",
    "\n",
    "    shutil.copy(code_dir / 'bigram/chars.json',\n",
    "                'chars.json')"
   ]
  },
  {
   "cell_type": "code",
   "execution_count": 4,
   "metadata": {},
   "outputs": [
    {
     "name": "stdout",
     "output_type": "stream",
     "text": [
      "device: cpu\n"
     ]
    }
   ],
   "source": [
    "import torch\n",
    "import torch.nn as nn\n",
    "import torch.nn.functional as F\n",
    "import torch.optim as optim\n",
    "from torch.utils.data import DataLoader\n",
    "import matplotlib.pyplot as plt\n",
    "\n",
    "from dataset import get_all_stories, get_dataset, CharacterLevelTokenizer\n",
    "\n",
    "device = torch.device('cuda' if torch.cuda.is_available() else 'cpu')\n",
    "print(\"device:\", device)"
   ]
  },
  {
   "cell_type": "code",
   "execution_count": 5,
   "metadata": {},
   "outputs": [],
   "source": [
    "train_stories, val_stories, test_stories = get_all_stories(data_dir)"
   ]
  },
  {
   "cell_type": "code",
   "execution_count": 6,
   "metadata": {},
   "outputs": [],
   "source": [
    "tokenizer = CharacterLevelTokenizer()\n",
    "vocab_size = tokenizer.vocab_size"
   ]
  },
  {
   "cell_type": "code",
   "execution_count": 7,
   "metadata": {},
   "outputs": [],
   "source": [
    "Ds_tr = get_dataset(train_stories, tokenizer)\n",
    "Ds_val = get_dataset(val_stories, tokenizer)\n",
    "Ds_test = get_dataset(test_stories, tokenizer)"
   ]
  },
  {
   "cell_type": "code",
   "execution_count": 8,
   "metadata": {},
   "outputs": [],
   "source": [
    "Tr_loader = DataLoader(Ds_tr, batch_size=64)\n",
    "Val_loader = DataLoader(Ds_val, batch_size=64)\n",
    "Test_loader = DataLoader(Ds_test, batch_size=64)"
   ]
  },
  {
   "cell_type": "code",
   "execution_count": 9,
   "metadata": {},
   "outputs": [],
   "source": [
    "Xtr, Ytr = Ds_tr.tensors\n",
    "Xval, Yval = Ds_val.tensors"
   ]
  },
  {
   "cell_type": "code",
   "execution_count": 10,
   "metadata": {},
   "outputs": [],
   "source": [
    "@torch.no_grad()\n",
    "def find_loss(model, X, Y):\n",
    "    model.eval()\n",
    "    logits = model(X)\n",
    "    loss = F.cross_entropy(logits, F.one_hot(Y, vocab_size).float())\n",
    "    # for param in model.parameters():\n",
    "    #     loss += param.pow(2).mean().sqrt()\n",
    "    return loss.item()"
   ]
  },
  {
   "cell_type": "code",
   "execution_count": 11,
   "metadata": {},
   "outputs": [],
   "source": [
    "@torch.no_grad()\n",
    "def generate(model, start_token=0, generator=None):\n",
    "    model.eval()\n",
    "    ix = start_token\n",
    "    out = []\n",
    "    while True:\n",
    "        logits = model(torch.tensor(ix))\n",
    "        p = torch.softmax(logits, 0)\n",
    "        ix = torch.multinomial(p, num_samples=1, replacement=True, generator=generator).item()\n",
    "        if ix == start_token:\n",
    "            break\n",
    "        out.append(ix)\n",
    "\n",
    "    return out"
   ]
  },
  {
   "cell_type": "code",
   "execution_count": 12,
   "metadata": {},
   "outputs": [],
   "source": [
    "class BigramLanguageModel(nn.Module):\n",
    "    def __init__(self, vocab_size):\n",
    "        super().__init__()\n",
    "        self.vocab_size = vocab_size\n",
    "        self.token_embedding_table = nn.Embedding(vocab_size, vocab_size)\n",
    "\n",
    "    def forward(self, idx):\n",
    "        logits = self.token_embedding_table(idx)\n",
    "        return logits"
   ]
  },
  {
   "cell_type": "code",
   "execution_count": 27,
   "metadata": {},
   "outputs": [],
   "source": [
    "bigram_model = BigramLanguageModel(vocab_size=vocab_size).to(device)"
   ]
  },
  {
   "cell_type": "code",
   "execution_count": 28,
   "metadata": {},
   "outputs": [],
   "source": [
    "optimizer = optim.SGD(bigram_model.parameters(), lr=1)"
   ]
  },
  {
   "cell_type": "code",
   "execution_count": 29,
   "metadata": {},
   "outputs": [],
   "source": [
    "all_loss = []"
   ]
  },
  {
   "cell_type": "code",
   "execution_count": 30,
   "metadata": {},
   "outputs": [
    {
     "name": "stdout",
     "output_type": "stream",
     "text": [
      "Epoch 1/15. Loss: 3.180\n",
      "Epoch 2/15. Loss: 2.669\n",
      "Epoch 3/15. Loss: 2.570\n",
      "Epoch 4/15. Loss: 2.524\n",
      "Epoch 5/15. Loss: 2.498\n",
      "Epoch 6/15. Loss: 2.482\n",
      "Epoch 7/15. Loss: 2.470\n",
      "Epoch 8/15. Loss: 2.460\n",
      "Epoch 9/15. Loss: 2.453\n",
      "Epoch 10/15. Loss: 2.448\n",
      "Epoch 11/15. Loss: 2.443\n",
      "Epoch 12/15. Loss: 2.439\n",
      "Epoch 13/15. Loss: 2.435\n",
      "Epoch 14/15. Loss: 2.432\n",
      "Epoch 15/15. Loss: 2.430\n"
     ]
    }
   ],
   "source": [
    "epochs = 15\n",
    "bigram_model.train()\n",
    "\n",
    "for epoch in range(epochs):\n",
    "    lossi = []\n",
    "    for x, y in Tr_loader:\n",
    "        x, y = x.to(device), y.to(device)\n",
    "        logits = bigram_model(x)\n",
    "        loss = F.cross_entropy(logits, F.one_hot(y, vocab_size).float())\n",
    "        # for param in bigram_model.parameters():\n",
    "        #     loss += param.pow(2).mean().sqrt()\n",
    "\n",
    "        lossi.append(loss.item())\n",
    "\n",
    "        optimizer.zero_grad()\n",
    "        loss.backward()\n",
    "        optimizer.step()\n",
    "\n",
    "    all_loss.extend(lossi)\n",
    "    print(f\"Epoch {epoch+1}/{epochs}. Loss: {torch.tensor(lossi).mean():.3f}\")"
   ]
  },
  {
   "cell_type": "code",
   "execution_count": 31,
   "metadata": {},
   "outputs": [
    {
     "data": {
      "image/png": "[encoded data removed]",
      "text/plain": [
       "<Figure size 640x480 with 1 Axes>"
      ]
     },
     "metadata": {},
     "output_type": "display_data"
    }
   ],
   "source": [
    "n = 100\n",
    "plt.plot(torch.tensor(all_loss[:len(all_loss) // n * n]).view(-1, n).mean(1))\n",
    "plt.show()"
   ]
  },
  {
   "cell_type": "code",
   "execution_count": 32,
   "metadata": {},
   "outputs": [
    {
     "name": "stdout",
     "output_type": "stream",
     "text": [
      "Train Loss: 2.427568197250366\n",
      "Val Loss: 2.4947011470794678\n"
     ]
    }
   ],
   "source": [
    "print(\"Train Loss:\", find_loss(bigram_model, Xtr, Ytr))\n",
    "print(\"Val Loss:\", find_loss(bigram_model, Xval, Yval))"
   ]
  },
  {
   "cell_type": "code",
   "execution_count": 33,
   "metadata": {},
   "outputs": [
    {
     "name": "stdout",
     "output_type": "stream",
     "text": [
      "That be s wimale toteind t Ljshous \"\n",
      "cheisf s thired t t. stho h f tl LZ'sst kimese ilyoowhereridounin gas whert\n",
      "hindklicum k s his Fod nowiche he cedidlend od ched g anto cid mumeste boitho lpa it\n",
      "'Oheyof as ingwie atothe vea tt no ce p\n",
      "stoufTHe KFo whive he incrid ofled s t\n",
      "Nowaven aruY\n"
     ]
    }
   ],
   "source": [
    "g = torch.Generator().manual_seed(42)\n",
    "ids = generate(bigram_model, generator=g)\n",
    "\n",
    "print(tokenizer.decode(ids))"
   ]
  },
  {
   "cell_type": "code",
   "execution_count": null,
   "metadata": {},
   "outputs": [],
   "source": []
  }
 ],
 "metadata": {
  "kernelspec": {
   "display_name": "Python 3",
   "language": "python",
   "name": "python3"
  },
  "language_info": {
   "codemirror_mode": {
    "name": "ipython",
    "version": 3
   },
   "file_extension": ".py",
   "mimetype": "text/x-python",
   "name": "python",
   "nbconvert_exporter": "python",
   "pygments_lexer": "ipython3",
   "version": "3.10.11"
  }
 },
 "nbformat": 4,
 "nbformat_minor": 2
}
