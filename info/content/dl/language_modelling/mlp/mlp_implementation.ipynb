{
 "cells": [
  {
   "cell_type": "markdown",
   "metadata": {},
   "source": [
    "MLP implementation"
   ]
  },
  {
   "cell_type": "code",
   "execution_count": 1,
   "metadata": {},
   "outputs": [
    {
     "name": "stdout",
     "output_type": "stream",
     "text": [
      "Is running colab? False\n"
     ]
    }
   ],
   "source": [
    "from pathlib import Path\n",
    "\n",
    "is_colab = True\n",
    "\n",
    "try:\n",
    "    from google.colab import drive\n",
    "\n",
    "    drive.mount('/content/drive')\n",
    "except ModuleNotFoundError:\n",
    "    is_colab = False\n",
    "\n",
    "print(\"Is running colab?\", is_colab)"
   ]
  },
  {
   "cell_type": "code",
   "execution_count": 2,
   "metadata": {},
   "outputs": [
    {
     "name": "stdout",
     "output_type": "stream",
     "text": [
      "D:\\ai-roadmap\\content\\dl\\mlp\\data\n"
     ]
    }
   ],
   "source": [
    "if is_colab:\n",
    "    data_dir = Path('/content/drive/MyDrive/data')\n",
    "    code_dir = Path('/content/drive/MyDrive/code')\n",
    "    models_dir = Path('/content/drive/MyDrive/models/mlp')\n",
    "else:\n",
    "    data_dir = Path('data').resolve()\n",
    "    models_dir = Path('models').resolve()\n",
    "\n",
    "print(data_dir)"
   ]
  },
  {
   "cell_type": "code",
   "execution_count": 3,
   "metadata": {},
   "outputs": [],
   "source": [
    "if is_colab:\n",
    "    import shutil\n",
    "    shutil.copy(code_dir / 'mlp/dataset.py',\n",
    "                'dataset.py')\n",
    "\n",
    "    shutil.copy(code_dir / 'mlp/chars.json',\n",
    "                'chars.json')"
   ]
  },
  {
   "cell_type": "code",
   "execution_count": 4,
   "metadata": {},
   "outputs": [
    {
     "name": "stdout",
     "output_type": "stream",
     "text": [
      "device: cpu\n"
     ]
    }
   ],
   "source": [
    "import torch\n",
    "import torch.nn as nn\n",
    "import torch.nn.functional as F\n",
    "import torch.optim as optim\n",
    "from torch.utils.data import DataLoader\n",
    "import matplotlib.pyplot as plt\n",
    "\n",
    "from dataset import get_all_stories, get_dataset, CharacterLevelTokenizer\n",
    "\n",
    "device = torch.device('cuda' if torch.cuda.is_available() else 'cpu')\n",
    "print(\"device:\", device)"
   ]
  },
  {
   "cell_type": "code",
   "execution_count": 5,
   "metadata": {},
   "outputs": [],
   "source": [
    "train_stories, val_stories, test_stories = get_all_stories(data_dir)"
   ]
  },
  {
   "cell_type": "code",
   "execution_count": 6,
   "metadata": {},
   "outputs": [],
   "source": [
    "tokenizer = CharacterLevelTokenizer()\n",
    "vocab_size = tokenizer.vocab_size"
   ]
  },
  {
   "cell_type": "code",
   "execution_count": 7,
   "metadata": {},
   "outputs": [],
   "source": [
    "block_size=4\n",
    "Ds_tr = get_dataset(train_stories, tokenizer, block_size=block_size)\n",
    "Ds_val = get_dataset(val_stories, tokenizer, block_size=block_size)\n",
    "Ds_test = get_dataset(test_stories, tokenizer, block_size=block_size)"
   ]
  },
  {
   "cell_type": "code",
   "execution_count": 8,
   "metadata": {},
   "outputs": [],
   "source": [
    "Xtr, Ytr = Ds_tr.tensors\n",
    "Xval, Yval = Ds_val.tensors"
   ]
  },
  {
   "cell_type": "code",
   "execution_count": 9,
   "metadata": {},
   "outputs": [
    {
     "name": "stdout",
     "output_type": "stream",
     "text": [
      "tensor([[ 0,  0,  0,  0],\n",
      "        [ 0,  0,  0, 14],\n",
      "        [ 0,  0, 14,  2],\n",
      "        ...,\n",
      "        [48, 45, 58, 59],\n",
      "        [45, 58, 59,  8],\n",
      "        [58, 59,  8, 40]])\n",
      "tensor([14,  2, 31,  ...,  8, 40,  0])\n"
     ]
    }
   ],
   "source": [
    "print(Xtr)\n",
    "print(Ytr)"
   ]
  },
  {
   "cell_type": "code",
   "execution_count": 10,
   "metadata": {},
   "outputs": [],
   "source": [
    "Tr_loader = DataLoader(Ds_tr, batch_size=4)\n",
    "Val_loader = DataLoader(Ds_val, batch_size=4)\n",
    "Test_loader = DataLoader(Ds_test, batch_size=4)"
   ]
  },
  {
   "cell_type": "code",
   "execution_count": 11,
   "metadata": {},
   "outputs": [],
   "source": [
    "@torch.no_grad()\n",
    "def find_loss(model, X, Y):\n",
    "    model.eval()\n",
    "    X, Y = X.to(device), Y.to(device)\n",
    "    logits = model(X)\n",
    "    loss = F.cross_entropy(logits, F.one_hot(Y, vocab_size).float())\n",
    "    # for param in bigram_model.parameters():\n",
    "    #     loss += param.pow(2).mean().sqrt()\n",
    "    return loss.item()"
   ]
  },
  {
   "cell_type": "code",
   "execution_count": 12,
   "metadata": {},
   "outputs": [],
   "source": [
    "@torch.no_grad()\n",
    "def generate(model, start_token=0, generator=None, k=None):\n",
    "    model.eval()\n",
    "    context = [start_token]*block_size\n",
    "    out = []\n",
    "\n",
    "    while True:\n",
    "        logits = model(torch.tensor(context))[-1]\n",
    "        if k:\n",
    "            top_k_values, top_k_indices = torch.topk(logits, k)\n",
    "            top_k_mask = torch.full_like(logits, float('-inf'))\n",
    "            top_k_mask.scatter_(0, top_k_indices, top_k_values)\n",
    "            logits = top_k_mask\n",
    "        p = torch.softmax(logits, 0)\n",
    "        # print(p)\n",
    "        ix = torch.multinomial(p, num_samples=1, replacement=True, generator=generator).item()\n",
    "        if ix == start_token:\n",
    "            break\n",
    "        # print(context, ix)\n",
    "        context = context[1:] + [ix]\n",
    "        out.append(ix)\n",
    "    return out"
   ]
  },
  {
   "cell_type": "code",
   "execution_count": 13,
   "metadata": {},
   "outputs": [],
   "source": [
    "class MLP(nn.Module):\n",
    "\n",
    "    def __init__(self, vocab_size, n_dim, n_hidden, block_size):\n",
    "        super().__init__()\n",
    "        self.vocab_size = vocab_size\n",
    "        self.n_dim = n_dim\n",
    "        self.n_hidden = n_hidden\n",
    "        self.block_size = block_size\n",
    "        self.emb = nn.Embedding(vocab_size, n_dim)\n",
    "        self.fc1 = nn.Linear(block_size*n_dim, n_hidden)\n",
    "        self.fc2 = nn.Linear(n_hidden, vocab_size)\n",
    "\n",
    "    def forward(self, idx):\n",
    "        out = self.emb(idx)\n",
    "        out = out.view(-1, self.block_size*self.n_dim)\n",
    "        out = self.fc1(out)\n",
    "        out = F.tanh(out)\n",
    "        logits = self.fc2(out)\n",
    "        return logits"
   ]
  },
  {
   "cell_type": "code",
   "execution_count": 14,
   "metadata": {},
   "outputs": [],
   "source": [
    "model = MLP(vocab_size=vocab_size, n_dim=32, n_hidden=200, block_size=block_size).to(device)"
   ]
  },
  {
   "cell_type": "code",
   "execution_count": 15,
   "metadata": {},
   "outputs": [],
   "source": [
    "optimizer = optim.SGD(model.parameters())"
   ]
  },
  {
   "cell_type": "code",
   "execution_count": 16,
   "metadata": {},
   "outputs": [],
   "source": [
    "all_loss = []"
   ]
  },
  {
   "cell_type": "code",
   "execution_count": 17,
   "metadata": {},
   "outputs": [
    {
     "name": "stdout",
     "output_type": "stream",
     "text": [
      "Epoch 1/3. Average Loss: 2.823. Train Loss: 2.474. Val Loss: 2.531\n",
      "Epoch 2/3. Average Loss: 2.382. Train Loss: 2.301. Val Loss: 2.377\n",
      "Epoch 3/3. Average Loss: 2.250. Train Loss: 2.196. Val Loss: 2.285\n"
     ]
    }
   ],
   "source": [
    "epochs = 3\n",
    "model.train()\n",
    "\n",
    "for epoch in range(epochs):\n",
    "    lossi = []\n",
    "    for x, y in Tr_loader:\n",
    "        x, y = x.to(device=device), y.to(device=device)\n",
    "        logits = model(x)\n",
    "        loss = F.cross_entropy(logits, y)\n",
    "        # for param in bigram_model.parameters():\n",
    "        #     loss += param.pow(2).mean().sqrt()\n",
    "\n",
    "        lossi.append(loss.item())\n",
    "\n",
    "        optimizer.zero_grad()\n",
    "        loss.backward()\n",
    "        optimizer.step()\n",
    "\n",
    "    all_loss.extend(lossi)\n",
    "    torch.save(model.state_dict(), models_dir / f'mlp_ndim64_hidden400_block4__epoch{epoch+1}.pth')   \n",
    "    print(\n",
    "        f\"Epoch {epoch+1}/{epochs}.\"\n",
    "        f\" Average Loss: {torch.tensor(lossi).mean():.3f}.\"\n",
    "        f\" Train Loss: {find_loss(model, Xtr, Ytr):.3f}.\"\n",
    "        f\" Val Loss: {find_loss(model, Xval, Yval):.3f}\"\n",
    "    )"
   ]
  },
  {
   "cell_type": "code",
   "execution_count": 18,
   "metadata": {},
   "outputs": [
    {
     "data": {
      "image/png": "[encoded data removed]",
      "text/plain": [
       "<Figure size 640x480 with 1 Axes>"
      ]
     },
     "metadata": {},
     "output_type": "display_data"
    }
   ],
   "source": [
    "n = 100\n",
    "plt.plot(torch.tensor(all_loss[:len(all_loss) // n * n]).view(-1, n).mean(1))\n",
    "plt.show()"
   ]
  },
  {
   "cell_type": "code",
   "execution_count": 20,
   "metadata": {},
   "outputs": [
    {
     "name": "stdout",
     "output_type": "stream",
     "text": [
      "Train Loss: 2.195702314376831\n",
      "Val Loss: 2.2849271297454834\n"
     ]
    }
   ],
   "source": [
    "print(\"Train Loss:\", find_loss(model, Xtr, Ytr))\n",
    "print(\"Val Loss:\", find_loss(model,Xval, Yval))"
   ]
  },
  {
   "cell_type": "code",
   "execution_count": 21,
   "metadata": {},
   "outputs": [
    {
     "name": "stdout",
     "output_type": "stream",
     "text": [
      " toor a ter the casting ind, to serase to seren in wored. Buge soute hit of and, the sare and\n",
      "s he teadender the hit\n",
      "on in wather seasting huthim she war sath tham had she simed. Bis the wo the hame to cangery wound hisenther hand the han to she to sile tho foon the tor\n",
      "the sand stenth must thamesting, bothighan they was tol he wat his that ind hin to the couthe coulleng se and the seran sas wast hur sas areend the sout th much as angede hid to hes he co aron the sild.\n",
      "\n",
      "_Din seryoutery outing, bor ate chas was to to th the shand withe\n",
      "\n",
      "\"ast oreed the she wareres and an the his of thind aid the were he cale, and and ath thit and ting and so dint the\n",
      "\n",
      "areed thin with sere to tiet and at he whin the to tho soor and the the tier. The Fo the cores of his the hise folly had bren tast the tor whit. are the wath thise anging, wald to hind tor the cont and simy so her has ande tas aroushim sound sase fire to chistof sis is aris wot ond are to hom warded, he hing and sher and wis in toon tho sime sous angred the wat hound sist ale st hin the tha shom the wast he child the te anting ale toun anded withit thon\n",
      "thit. \"ho far haderis ald hither shous ase tow atort in was ho dis.\n",
      "\n",
      "_Dond,\n",
      "as oonge ard and tho shad so dead hiters west are him sor hed an ato ast hit oun ant ond shadly hare. ousting and the was ind the sore so dowist th mest ald wate arayd, and to ther whis shan the sore to the co ta the hes that the shankeyour ain so tith the wat end, anded of and hingsto tho wath ast teat then to and tary anound wer and the wers an wasseryon the the whin ther hit wous of ho sined than hand\n",
      "the chas tire. Thand thoustily and to to himes, and were teat ind ato sind had bot ing toond the\n",
      "\n",
      "ar wes and the soureres to aid himes th to hat haryengen hom ware the to th trey whithe sow he ward there the hung hite tele st the the wat ite tere so wes to hereat ong and and an thimeds ad wore tho was an ting,\n",
      "\n",
      "_led the wary aro the wase sant hit the chis the ch as areronderyouthad as ho dat\n",
      "\n",
      "at aroned, and tor the seads tor houldell, hin the siming and thon tier ing had bount to the saner, wat are than he wind he hise oust an heris tor thim she tile ald and\n",
      "\n",
      "they, an toof aroutse the the come seloughind, he winge sat arier toot arees, hes and tee the sary. Aris. Buged. The Mest of hit the sous atr he han shing. ar anget, he wary the\n",
      "\n",
      "and that ongen thim shond his sasdinged thin ant th to the weast and and they ho thing his the his to his wir an the tile that ande thing alinge bor has and and\n",
      "\n",
      "Ahe far hus on as tarederyoute sur wat hit ato tor\n",
      "to than\n",
      "\n",
      "\"oulle sastere he the to then her hassed wild se hould hime tien the har his tore ato for and wis the sow orithe cared the sas toues hare aid the wort wasting him wis. and to the she she pat him the sand\n",
      "y to hound teryoughat it.\n",
      "\n",
      "ANon tho satr and wist an teathin are and\n",
      "se him the withe cereed,orn her had so an he so ate that an ho hery a seer ait thid homly.\n",
      "\n",
      "hem aned to theres. The withed wery the whe foun ous. ale hom thoug to tout ant\n",
      "\n",
      "he wertow hearsen th whan the touling.\n",
      "\n",
      "Towhand at of tham areeredes in tare to asee thouser wand aro the sait ous at out an irede hus oo thand thend his the tor are tien oulend whed atree to ato tore tir to seat ho seadl hister tien the saind was thing to comt the has his she wot thit of athe tould ther to he wore thin so ast he wing hand and and when to ther the touse he they onder hound\n",
      "\n",
      "the sead his the thoust and tired thid\n",
      "sas sased at of his shid soried, himes whe shere woullll gond sint an tore ait, one the ter hous it an the ch sas illly. Tued the the tile but thin sathe\n",
      "coully. The Astere sh wath thinesst as asteethan sooles.e\n",
      "\"he wile horeand the\n",
      "\n",
      "\"arll shame sais to con serateng hered in whe taris. Be tor to thim the withed his showes inge bad tored to ting.\n",
      "\n",
      "The fare tint.\n",
      "\n",
      "_on was inth tery and ate thimestherestell. THE Mouthin te he we the shered and the wind and angen so dary and wath he ch as aded an ine stin thime ais the sas int houll as ander hit arear hat tar ang the houre and, and to therse wathen wis were to has and ais at hareed as we the has atrere aiser toued asthe the se the sow the couth muching at tore and terase the cale touling hit of the wes tas his tho to cand the com an thing the chast ther he had siln the\n",
      "\n",
      "an her arily tout the heris onding thengenger ato thas ware thinged the co wesh wore to hire tind he he shin the sang.\n",
      "TH\n",
      "\n",
      "Aofroun and and toue to till, we tint\n",
      "\n",
      "oulers whe tie woust thated wat hit. Than wer ane\n",
      "\n",
      "andey worled ante soof ant wesed and and and tary ther ard to tare ase foand sho dande beay.\n",
      "TTTHE Fave anerowered and\n",
      "te to thas sand and then whather ast ond hore will sere tien hous.\n",
      "\n",
      "\"he wan to the has arand the cher wase alo thang toundinet tie soullis andile and ho daried around athis to the sand he the the\n",
      "\n",
      "himed and and\n",
      "\n",
      "housery.\n",
      "\n",
      "Thid th and he carid tire the toungen thoul aid thit he wh the wing ongede tis ang and the histhe hid so atores ind sout the\n",
      "\n",
      "\"o tha sarit.\n",
      "\n",
      "Thang he hed his wale suro fis to to ca sered wethimed wires ilend houle said\n",
      "stont on wilen at in a then tee tho the shand thous an wathis woreass ore wing to tier oro hat\n",
      "eng and the was hand soring thit as atel the coreasery asor sast he when whand to the shis to conteress atre so the chame che wery, an he shadesto the then whin as areande to to hed tha wotren that to simen the wat in tald hea the cout, the couen the wange wishere atoreant a tor tit in the cous aro tard the wer asthe whe ware the\n",
      "sof hid hat his thing the so dite sim are thon\n",
      "\n",
      "\"erer he wass ang tilild, thin sed this an he han the heas wind, ho ward he cristores. As word wathed hat hire. and will sand. \n",
      "Thest that heads ar at he withen the\n",
      "\n",
      "athed woot the te comese ato hery, on tere anthe saing thom to the wild hind, and, the within ther tiled hid wass what.o\n",
      "\n",
      "hor sinded and he soondeyon\n",
      "th his areed, his whe was sat he he has sele saner, his shas wassed hour and he cast ofsery he that and here and as ind an in thinged tout ong hould the should whe for areend aiseried an tire thing his th aldend to thit oned had bret the with the has adien the her there tie fard\n",
      "the his ond wiserithed\n",
      "\n",
      "he to there that he south the to she saill sand hon the to tary. \"hares the the wand thid bist tist.\n",
      "\n",
      "Thine tha wand te the came shad he hadle hered hom areanes the coule tor asst hon soonthan to seed ande sore sowlis, his thond, tore sool the sist hing herings ad at at in wand, wat en the seras wan ing ined to the what he waseld him shen\n",
      "the crow hime and tithe com the wit the toreed arow as he wound wint it and whon at him sout and the saried as ware has he the care to than th the cous, her saind,\n",
      "\n",
      "Asteried ater the wood hin then\n",
      "\n",
      "\"ele to then sarilll st on he weas wattor areeryout wateroutee the shithe wild shit weat heare that. \n",
      "he was hass tat and hore hereas ad toresede to the he to hedeng ind thim the\n",
      "thim the sard. Ahere houstoft ther song areed, are sulllly her was inet teas. The Aas was to anele the there wath the sathe\n",
      "\n",
      "ast the war and wis of has tor whand ard warle th mint hor\n",
      "so ta this wore there and tho the chan ho sare wing. Be she tare winthe sise the the seast wast at his oun the sis tore and hit to tinged it the sound. But ta tar to coun to tinther ater tile toor he so anding the hound ster and, ham has toryow thin\n",
      "\n",
      "\"oold houl tory ond tha saree with shing the tiry and hing.\n",
      "\n",
      "\"erateling areeds and he sood wo the sead are tor th th hume they woo hand to tolled, oul all tous waled th the cas and\n",
      "seat tar ate cras shen hit that tould he wis orad hatr ing the har bies, to she sher the wh as the the crond to te aring it as ind wile so to are hid be anged, he se the cors to so and ward the wather sand aso de thine aid. The frred ind, who tory and shid but thith thin that a toule thimed hit all ham be to thimed hand\n",
      "y out in to the with ting has he houllis withe with shim sore ast ther tither\n",
      "they had himss as hery and ate sisend, and his sond at the wery a the he towerering ithat ast we seryis ter to his ofe they to tere shed as and\n",
      "\n",
      "\"oul the soulith ie to ther was as ing anderyin warlin an headery hit an tingen anden a ting, bidint his aras and ar wast himing, wher heade tared atoln want he whiseld arden and the thin to chem hangereas in wath the sisto seas arer and asten th who das of the to the couser ant houn tho deathen\n",
      "ang the san the with the thon than with ara ding and and the he chatery, tor ato hore he his was intore sooleng an andengenged to to the wean it ous ingined ham tount thong the weree towerse and hould the his on to the sout aiseds too she was sat tis thend sithe thand thand, wasthen the sand shid. \n",
      "hemeds. Angot tho tor houngo tol and sist heme se tar he whe sand and to aid wite aron souner thomest the tast hir wound tho with. The foors tind aro aite him thimsero sild and the the to hat of and has and wore hom hearee they tith the warllyed\n",
      "ing ant the hame hindered to sait of the hame sore that in the thing tary and withon a dint\n",
      "\n",
      "hers wothe himis wast ta then\n",
      "sound the houl ther,o fery.\n",
      "\n",
      "\"Io the tout allind at an and anouring or ate as an arouth tereatery to he chasd her ato ang ald be to to had thom ato sithin arering, whed the wathe soulithe his on the sooreat. ATHe Fouly found the to the would\n",
      "tha cemile te sathe said at our wand and to te sainded the towishan the\n",
      "the sout allig thit of the sined the sored teryow the com sain an hed wat en th aran thing heriter the witt ar hery wiring and\n",
      "thered wist of oused, the hime te heasstery hin whe to the sar and the case tore toong and wis then her hure fise stout to cried, arout ate create ais, and as the cand sither wath thin the was the tor a sere than ther are til wh the him him ha tho sere aisend ho hare the sared iner, whe sas sery an the se arit of his tor\n",
      "tone sho than shong.\n",
      "\n",
      "Therery to sast ondere sand th and was the cand sath te thang the hers. The fard to the wared with as and arout and he him shin har he sime at in wo the han sher the we camt houlis, the crissing the wo the sareed, and athis. The Fouse st wert ind to thin sat to ais.e\n"
     ]
    }
   ],
   "source": [
    "g = torch.Generator().manual_seed(420)\n",
    "ids = generate(model, generator=g, k=5)\n",
    "\n",
    "print(tokenizer.decode(ids))"
   ]
  },
  {
   "cell_type": "markdown",
   "metadata": {},
   "source": [
    "---"
   ]
  },
  {
   "cell_type": "code",
   "execution_count": null,
   "metadata": {},
   "outputs": [],
   "source": [
    "class MLP_Dropout(nn.Module):\n",
    "\n",
    "    def __init__(self, vocab_size, n_dim, n_hidden, block_size):\n",
    "        super().__init__()\n",
    "        self.vocab_size = vocab_size\n",
    "        self.n_dim = n_dim\n",
    "        self.n_hidden = n_hidden\n",
    "        self.block_size = block_size\n",
    "        self.emb = nn.Embedding(vocab_size, n_dim)\n",
    "        self.fc1 = nn.Linear(block_size*n_dim, n_hidden)\n",
    "        self.dropout = nn.Dropout()\n",
    "        self.fc2 = nn.Linear(n_hidden, vocab_size)\n",
    "\n",
    "    def forward(self, idx):\n",
    "        out = self.emb(idx)\n",
    "        out = out.view(-1, self.block_size*self.n_dim)\n",
    "        out = self.fc1(out)\n",
    "        out = F.tanh(out)\n",
    "        out = self.dropout(out)\n",
    "        logits = self.fc2(out)\n",
    "        return logits"
   ]
  },
  {
   "cell_type": "code",
   "execution_count": null,
   "metadata": {},
   "outputs": [],
   "source": [
    "model_drop = MLP_Dropout(vocab_size=vocab_size, n_dim=64, n_hidden=400, block_size=block_size).to(device=device)\n",
    "optimizer_drop = optim.SGD(model_drop.parameters())\n",
    "all_loss = []"
   ]
  },
  {
   "cell_type": "code",
   "execution_count": null,
   "metadata": {},
   "outputs": [],
   "source": [
    "epochs = 3\n",
    "model_drop.train()\n",
    "\n",
    "for epoch in range(epochs):\n",
    "    lossi = []\n",
    "    for x, y in Tr_loader:\n",
    "        x, y = x.to(device=device), y.to(device=device)\n",
    "        logits = model_drop(x)\n",
    "        loss = F.cross_entropy(logits, y)\n",
    "        # for param in bigram_model.parameters():\n",
    "        #     loss += param.pow(2).mean().sqrt()\n",
    "\n",
    "        lossi.append(loss.item())\n",
    "\n",
    "        optimizer_drop.zero_grad()\n",
    "        loss.backward()\n",
    "        optimizer_drop.step()\n",
    "\n",
    "    all_loss.extend(lossi)\n",
    "    torch.save(model_drop.state_dict(), models_dir / f'mlp_drop_ndim64_hidden400_block4__epoch{epoch+1}.pth')\n",
    "    print(\n",
    "        f\"Epoch {epoch+1}/{epochs}.\"\n",
    "        f\" Average Loss: {torch.tensor(lossi).mean():.3f}.\"\n",
    "        f\" Train Loss: {find_loss(model_drop, Xtr, Ytr):.3f}.\"\n",
    "        f\" Val Loss: {find_loss(model_drop, Xval, Yval):.3f}\"\n",
    "    )"
   ]
  },
  {
   "cell_type": "code",
   "execution_count": null,
   "metadata": {},
   "outputs": [],
   "source": [
    "g = torch.Generator(device=device).manual_seed(42)\n",
    "ids = generate(model_drop, generator=g, k=10)\n",
    "\n",
    "print(tokenizer.decode(ids))"
   ]
  }
 ],
 "metadata": {
  "kernelspec": {
   "display_name": "Python 3",
   "language": "python",
   "name": "python3"
  },
  "language_info": {
   "codemirror_mode": {
    "name": "ipython",
    "version": 3
   },
   "file_extension": ".py",
   "mimetype": "text/x-python",
   "name": "python",
   "nbconvert_exporter": "python",
   "pygments_lexer": "ipython3",
   "version": "3.10.11"
  }
 },
 "nbformat": 4,
 "nbformat_minor": 2
}
