{
 "cells": [
  {
   "cell_type": "markdown",
   "metadata": {},
   "source": [
    "<h2 style=\"text-align:center;color:#0F4C81;\">\n",
    "Neural Networks From Scratch\n",
    "</h2>"
   ]
  },
  {
   "cell_type": "markdown",
   "metadata": {},
   "source": [
    "### A Layer of Neurons"
   ]
  },
  {
   "cell_type": "markdown",
   "metadata": {},
   "source": [
    "Neural networks typically have laers that consists of more than one neuron. Layers are nothing more than groups of neurons. Each neuron in a layer takes exactly the same input - the input given to the layer (which can be either the training data or the output from the previous layer), but contains its own set of weights and its own bias, producing its own unique output. The layer's output is a set of each of these outputs - one per each neuron. Let's say we have a scenario with 3 neurons in a layer and 4 inputs:\n",
    "\n",
    "<div style=\"display:flex;justify-content:center;align-items:center;\">\n",
    "<img src=\"images/nn_4_3.png\" style=\"width:300px;object-fit:cover;\">\n",
    "</div>"
   ]
  },
  {
   "cell_type": "code",
   "execution_count": 42,
   "metadata": {},
   "outputs": [],
   "source": [
    "inputs = [1.0, 2.0, 3.0, 2.5]\n",
    "\n",
    "# randomly initialized weights and biases\n",
    "weights1 = [0.2, 0.8, -0.5, 1]\n",
    "weights2 = [0.5, -0.91, 0.26, -0.5]\n",
    "weights3 = [-0.26, -0.27, 0.17, 0.87]\n",
    "\n",
    "bias1 = 2.0\n",
    "bias2 = 3.0\n",
    "bias3 = 0.5"
   ]
  },
  {
   "cell_type": "code",
   "execution_count": 43,
   "metadata": {},
   "outputs": [
    {
     "name": "stdout",
     "output_type": "stream",
     "text": [
      "[4.8, 1.21, 2.385]\n"
     ]
    }
   ],
   "source": [
    "outputs = [\n",
    "    # Neuron 1:\n",
    "    inputs[0]*weights1[0]+\n",
    "    inputs[1]*weights1[1]+\n",
    "    inputs[2]*weights1[2]+\n",
    "    inputs[3]*weights1[3] + bias1,\n",
    "\n",
    "    # Neuron 2:\n",
    "    inputs[0]*weights2[0]+\n",
    "    inputs[1]*weights2[1]+\n",
    "    inputs[2]*weights2[2]+\n",
    "    inputs[3]*weights2[3] + bias2,\n",
    "\n",
    "    # Neuron 3:\n",
    "    inputs[0]*weights3[0]+\n",
    "    inputs[1]*weights3[1]+\n",
    "    inputs[2]*weights3[2]+\n",
    "    inputs[3]*weights3[3] + bias3\n",
    "]\n",
    "print(outputs)"
   ]
  },
  {
   "cell_type": "markdown",
   "metadata": {},
   "source": [
    "<div style=\"display:flex;justify-content:center;align-items:center;\">\n",
    "<img src=\"images/nn_4_3_with_outputs.png\" style=\"width:800px;object-fit:cover;\">\n",
    "</div>"
   ]
  },
  {
   "cell_type": "code",
   "execution_count": 44,
   "metadata": {},
   "outputs": [
    {
     "name": "stdout",
     "output_type": "stream",
     "text": [
      "[4.8, 1.21, 2.385]\n"
     ]
    }
   ],
   "source": [
    "# dynamic version\n",
    "\n",
    "inputs = [1.0, 2.0, 3.0, 2.5]\n",
    "\n",
    "# randomly initialized weights and biases\n",
    "weights = [\n",
    "    [0.2, 0.8, -0.5, 1],\n",
    "    [0.5, -0.91, 0.26, -0.5],\n",
    "    [-0.26, -0.27, 0.17, 0.87]\n",
    "]\n",
    "\n",
    "biases = [2.0, 3.0, 0.5]\n",
    "\n",
    "layer_outputs = []\n",
    "for neuron_weights, neuron_bias in zip(weights, biases):\n",
    "    neuron_output = 0\n",
    "    for n_input, weight in zip(inputs, neuron_weights):\n",
    "        neuron_output += n_input * weight\n",
    "    neuron_output += neuron_bias\n",
    "    layer_outputs.append(neuron_output)\n",
    "print(layer_outputs)"
   ]
  },
  {
   "cell_type": "markdown",
   "metadata": {},
   "source": [
    "### Layer of Neurons with NumPy"
   ]
  },
  {
   "cell_type": "code",
   "execution_count": 45,
   "metadata": {},
   "outputs": [
    {
     "name": "stdout",
     "output_type": "stream",
     "text": [
      "inputs: [1.  2.  3.  2.5]\n",
      "weights:\n",
      "[[ 0.2   0.5  -0.26]\n",
      " [ 0.8  -0.91 -0.27]\n",
      " [-0.5   0.26  0.17]\n",
      " [ 1.   -0.5   0.87]]\n",
      "biases: [2.  3.  0.5]\n",
      "\n",
      "outputs: [4.8   1.21  2.385]\n"
     ]
    }
   ],
   "source": [
    "import numpy as np\n",
    "\n",
    "inputs = np.array([1.0, 2.0, 3.0, 2.5])\n",
    "weights = np.array([\n",
    "    [ 0.2 ,  0.5 , -0.26],\n",
    "    [ 0.8 , -0.91, -0.27],\n",
    "    [-0.5 ,  0.26,  0.17],\n",
    "    [ 1.  , -0.5 ,  0.87]\n",
    "])\n",
    "\n",
    "biases = np.array([2.0, 3.0, 0.5])\n",
    "\n",
    "print(\"inputs:\", inputs)\n",
    "print(\"weights:\\n\", weights, sep='')\n",
    "print(\"biases:\", biases)\n",
    "\n",
    "# matrix multiplication\n",
    "layer_outputs = inputs @ weights + biases\n",
    "print(\"\\noutputs:\", layer_outputs)"
   ]
  },
  {
   "cell_type": "markdown",
   "metadata": {},
   "source": [
    "### Layer of Neurons with PyTorch"
   ]
  },
  {
   "cell_type": "code",
   "execution_count": 46,
   "metadata": {},
   "outputs": [
    {
     "name": "stdout",
     "output_type": "stream",
     "text": [
      "inputs: tensor([1.0000, 2.0000, 3.0000, 2.5000])\n",
      "weights:\n",
      "tensor([[ 0.2000,  0.5000, -0.2600],\n",
      "        [ 0.8000, -0.9100, -0.2700],\n",
      "        [-0.5000,  0.2600,  0.1700],\n",
      "        [ 1.0000, -0.5000,  0.8700]])\n",
      "biases: tensor([2.0000, 3.0000, 0.5000])\n",
      "\n",
      "outputs: tensor([4.8000, 1.2100, 2.3850])\n"
     ]
    }
   ],
   "source": [
    "import torch\n",
    "\n",
    "inputs = torch.tensor([1.0, 2.0, 3.0, 2.5])\n",
    "weights = torch.tensor([\n",
    "    [ 0.2 ,  0.5 , -0.26],\n",
    "    [ 0.8 , -0.91, -0.27],\n",
    "    [-0.5 ,  0.26,  0.17],\n",
    "    [ 1.  , -0.5 ,  0.87]\n",
    "])\n",
    "\n",
    "biases = torch.tensor([2.0, 3.0, 0.5])\n",
    "\n",
    "print(\"inputs:\", inputs)\n",
    "print(\"weights:\\n\", weights, sep='')\n",
    "print(\"biases:\", biases)\n",
    "\n",
    "# matrix multiplication\n",
    "layer_outputs = inputs @ weights + biases\n",
    "print(\"\\noutputs:\", layer_outputs)"
   ]
  },
  {
   "cell_type": "markdown",
   "metadata": {},
   "source": [
    "### Multiple Layers of Neurons"
   ]
  },
  {
   "cell_type": "markdown",
   "metadata": {},
   "source": [
    "Let's increase the size of the network.\n",
    "\n",
    "- Inputs: **4**\n",
    "- Hidden 1: **5**\n",
    "- Hidden 2: **3**\n",
    "- Outputs: **2**"
   ]
  },
  {
   "cell_type": "markdown",
   "metadata": {},
   "source": [
    "<div style=\"display:flex;justify-content:center;align-items:center;\">\n",
    "<img src=\"images/nn_4_5_3_2.png\" style=\"width:700px;object-fit:cover;\">\n",
    "</div>"
   ]
  },
  {
   "cell_type": "code",
   "execution_count": 48,
   "metadata": {},
   "outputs": [
    {
     "name": "stdout",
     "output_type": "stream",
     "text": [
      "tensor([[ -1.7738,  -5.5301],\n",
      "        [ -4.4459, -13.6777]])\n"
     ]
    }
   ],
   "source": [
    "import torch\n",
    "torch.manual_seed(42)\n",
    "\n",
    "# inputs\n",
    "inputs = torch.tensor([\n",
    "    [1.0, 2.0, 3.0, 2.5],\n",
    "    [2.0, 3.1, 1.1, 2.7],\n",
    "]) # size (2, 4)\n",
    "\n",
    "# random weights and biases\n",
    "W1 = torch.randn((4, 5))\n",
    "b1 = torch.randn(5)\n",
    "W2 = torch.randn((5, 3))\n",
    "b2 = torch.randn(3)\n",
    "W3 = torch.randn((3, 2))\n",
    "b3 = torch.randn(2)\n",
    "\n",
    "h1_out = inputs @ W1 + b1\n",
    "h2_out = h1_out @ W2 + b2\n",
    "outputs = h2_out @ W3 + b3\n",
    "\n",
    "print(outputs)"
   ]
  },
  {
   "cell_type": "markdown",
   "metadata": {},
   "source": [
    "### Adding Activation Functions"
   ]
  },
  {
   "cell_type": "code",
   "execution_count": 49,
   "metadata": {},
   "outputs": [],
   "source": [
    "import matplotlib.pyplot as plt\n",
    "torch.set_printoptions(sci_mode=False)"
   ]
  },
  {
   "cell_type": "code",
   "execution_count": 50,
   "metadata": {},
   "outputs": [],
   "source": [
    "# defining activation functions\n",
    "def relu(x):\n",
    "    return torch.maximum(x, torch.zeros_like(x))\n",
    "\n",
    "def sigmoid(x):\n",
    "    return 1 / (1 + torch.exp(-x))\n",
    "\n",
    "def tanh(x):\n",
    "    return (torch.exp(2*x)-1) / (torch.exp(2*x)+1)\n",
    "\n",
    "def softmax(x):\n",
    "    return torch.exp(x) / torch.exp(x).sum(dim=-1)"
   ]
  },
  {
   "cell_type": "code",
   "execution_count": 51,
   "metadata": {},
   "outputs": [],
   "source": [
    "x = torch.linspace(-10, 10, 100)"
   ]
  },
  {
   "cell_type": "code",
   "execution_count": 52,
   "metadata": {},
   "outputs": [
    {
     "data": {
      "image/png": "[encoded data removed]",
      "text/plain": [
       "<Figure size 640x480 with 1 Axes>"
      ]
     },
     "metadata": {},
     "output_type": "display_data"
    }
   ],
   "source": [
    "plt.plot(x, relu(x))\n",
    "plt.show()"
   ]
  },
  {
   "cell_type": "code",
   "execution_count": 53,
   "metadata": {},
   "outputs": [
    {
     "data": {
      "image/png": "[encoded data removed]",
      "text/plain": [
       "<Figure size 640x480 with 1 Axes>"
      ]
     },
     "metadata": {},
     "output_type": "display_data"
    }
   ],
   "source": [
    "plt.plot(x, sigmoid(x))\n",
    "plt.show()"
   ]
  },
  {
   "cell_type": "code",
   "execution_count": 54,
   "metadata": {},
   "outputs": [
    {
     "data": {
      "image/png": "[encoded data removed]",
      "text/plain": [
       "<Figure size 640x480 with 1 Axes>"
      ]
     },
     "metadata": {},
     "output_type": "display_data"
    }
   ],
   "source": [
    "plt.plot(x, tanh(x))\n",
    "plt.show()"
   ]
  },
  {
   "cell_type": "code",
   "execution_count": 55,
   "metadata": {},
   "outputs": [
    {
     "name": "stdout",
     "output_type": "stream",
     "text": [
      "tensor(1.0000)\n"
     ]
    },
    {
     "data": {
      "image/png": "[encoded data removed]",
      "text/plain": [
       "<Figure size 640x480 with 1 Axes>"
      ]
     },
     "metadata": {},
     "output_type": "display_data"
    }
   ],
   "source": [
    "y = softmax(x)\n",
    "print(y.sum())\n",
    "plt.bar(x, y)\n",
    "plt.show()"
   ]
  },
  {
   "cell_type": "code",
   "execution_count": 60,
   "metadata": {},
   "outputs": [
    {
     "name": "stdout",
     "output_type": "stream",
     "text": [
      "tensor([[0.5320, 0.7280],\n",
      "        [0.4273, 0.3353]])\n"
     ]
    }
   ],
   "source": [
    "# inputs\n",
    "torch.manual_seed(42)\n",
    "inputs = torch.tensor([\n",
    "    [1.0, 2.0, 3.0, 2.5],\n",
    "    [2.0, 3.1, 1.1, 2.7],\n",
    "]) # size (2, 4)\n",
    "\n",
    "# random weights and biases\n",
    "W1 = torch.randn((4, 5))\n",
    "b1 = torch.randn(5)\n",
    "W2 = torch.randn((5, 3))\n",
    "b2 = torch.randn(3)\n",
    "W3 = torch.randn((3, 2))\n",
    "b3 = torch.randn(2)\n",
    "\n",
    "h1_preact = inputs @ W1 + b1\n",
    "h1_out = tanh(h1_preact)\n",
    "\n",
    "h2_preact = h1_out @ W2 + b2\n",
    "h2_out = tanh(h2_preact)\n",
    "\n",
    "logits = h2_out @ W3 + b3\n",
    "outputs = softmax(logits)\n",
    "\n",
    "print(outputs)"
   ]
  },
  {
   "cell_type": "markdown",
   "metadata": {},
   "source": [
    "### Encapsulating with classes"
   ]
  },
  {
   "cell_type": "code",
   "execution_count": 35,
   "metadata": {},
   "outputs": [],
   "source": [
    "class Module:\n",
    "    def __call__(self, *args, **kwargs):\n",
    "        return self.forward(*args, **kwargs)\n",
    "\n",
    "\n",
    "class Linear(Module):\n",
    "    def __init__(self, in_features, out_features, bias = True):\n",
    "        self.W = torch.randn((in_features, out_features))\n",
    "        self.b = torch.randn(out_features)\n",
    "\n",
    "\n",
    "    def forward(self, x):\n",
    "        return x @ self.W + self.b\n",
    "    \n",
    "    def parameters(self):\n",
    "        return [self.W, self.b]"
   ]
  },
  {
   "cell_type": "code",
   "execution_count": null,
   "metadata": {},
   "outputs": [],
   "source": [
    "class ReLU(Module):\n",
    "    def forward(self, x):\n",
    "        return torch.maximum(x, torch.zeros_like(x))\n",
    "    \n",
    "class Sigmoid(Module):\n",
    "    def forward(self, x):\n",
    "        return 1 / (1 + torch.exp(-x))\n",
    "\n",
    "class Tanh(Module):\n",
    "    def forward(self, x):\n",
    "        return (torch.exp(2*x)-1) / (torch.exp(2*x)+1)\n",
    "    \n",
    "class Softmax(Module):\n",
    "    def forward(self, x):\n",
    "        return torch.exp(x) / torch.exp(x).sum(dim=-1)"
   ]
  },
  {
   "cell_type": "code",
   "execution_count": 39,
   "metadata": {},
   "outputs": [],
   "source": [
    "class FNN(Module):\n",
    "    def __init__(self):\n",
    "        self.lin1 = Linear(4, 5)\n",
    "        self.act1 = Tanh()\n",
    "        self.lin2 = Linear(5, 3)\n",
    "        self.act2 = Tanh()\n",
    "        self.lin3 = Linear(3, 2)\n",
    "    \n",
    "    def forward(self, x):\n",
    "        h1_preact = self.lin1(x)\n",
    "        h1_out = self.act1(h1_preact)\n",
    "        h2_preact = self.lin2(h1_out)\n",
    "        h2_out = self.act2(h2_preact)\n",
    "        logits = self.lin3(h2_out)\n",
    "        return logits\n",
    "    \n",
    "    def parameters(self):\n",
    "        return [self.lin1.parameters, self.lin2.parameters, self.lin3.parameters]"
   ]
  },
  {
   "cell_type": "code",
   "execution_count": 63,
   "metadata": {},
   "outputs": [
    {
     "name": "stdout",
     "output_type": "stream",
     "text": [
      "tensor([[0.5320, 0.7280],\n",
      "        [0.4273, 0.3353]])\n"
     ]
    }
   ],
   "source": [
    "torch.manual_seed(42)\n",
    "\n",
    "# inputs\n",
    "inputs = torch.tensor([\n",
    "    [1.0, 2.0, 3.0, 2.5],\n",
    "    [2.0, 3.1, 1.1, 2.7],\n",
    "]) # size (2, 4)\n",
    "\n",
    "model = FNN()\n",
    "logits = model(inputs)\n",
    "outputs = softmax(logits)\n",
    "\n",
    "print(outputs)"
   ]
  },
  {
   "cell_type": "code",
   "execution_count": null,
   "metadata": {},
   "outputs": [],
   "source": []
  }
 ],
 "metadata": {
  "kernelspec": {
   "display_name": "Python 3",
   "language": "python",
   "name": "python3"
  },
  "language_info": {
   "codemirror_mode": {
    "name": "ipython",
    "version": 3
   },
   "file_extension": ".py",
   "mimetype": "text/x-python",
   "name": "python",
   "nbconvert_exporter": "python",
   "pygments_lexer": "ipython3",
   "version": "3.10.11"
  }
 },
 "nbformat": 4,
 "nbformat_minor": 2
}
