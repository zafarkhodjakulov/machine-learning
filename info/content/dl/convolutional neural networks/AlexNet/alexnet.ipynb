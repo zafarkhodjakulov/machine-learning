{
 "cells": [
  {
   "cell_type": "markdown",
   "id": "d834ec78",
   "metadata": {},
   "source": [
    "## AlexNet"
   ]
  },
  {
   "cell_type": "markdown",
   "id": "15ded13f",
   "metadata": {},
   "source": [
    "AlexNet is a pioneering convolutional neural network (CNN) architecture that made significant strides in image classification. Developed in 2012, it achieved remarkable results in the ImageNet Large Scale Visual Recognition Challenge (ILSVRC). AlexNet's architecture, characterized by its depth and the use of ReLU activation functions, demonstrated the potential of deep CNNs for large-scale visual recognition.\n",
    "\n",
    "### Key Features and Contributions:\n",
    "\n",
    "**Deep Architecture:**\n",
    "\n",
    "AlexNet consists of eight layers, including five convolutional layers and three fully connected layers, allowing it to learn hierarchical features from images. \n",
    "\n",
    "**ReLU Activation:**\n",
    "\n",
    "The use of Rectified Linear Unit (ReLU) activation functions significantly improved training speed and performance compared to traditional activation functions like sigmoid. \n",
    "\n",
    "**GPU Utilization:**\n",
    "\n",
    "AlexNet was one of the first CNNs to leverage the power of Graphics Processing Units (GPUs) for training, enabling the handling of large models and datasets. \n",
    "\n",
    "**Data Augmentation:**\n",
    "Techniques like random cropping, flipping, and color jittering were used to increase the diversity of the training data and prevent overfitting.\n",
    "\n",
    "**Dropout Regularization:**\n",
    "\n",
    "Dropout, a regularization technique that randomly \"drops\" neurons during training, was employed to further reduce overfitting and improve generalization performance. \n",
    "\n",
    "### Impact and Significance:\n",
    "\n",
    "**ImageNet ILSVRC Success:**\n",
    "\n",
    "AlexNet won the ImageNet ILSVRC 2012 challenge with a top-5 error rate of 15.3%, surpassing previous state-of-the-art methods by a significant margin. \n",
    "\n",
    "**Deep Learning Revolution:**\n",
    "\n",
    "AlexNet's success paved the way for the widespread adoption of deep CNNs in various computer vision tasks, including image classification, object detection, and semantic segmentation. \n",
    "\n",
    "**Foundation for Modern CNNs:**\n",
    "\n",
    "AlexNet's architecture and techniques have been foundational for many subsequent CNN architectures, including VGGNet, ResNet, and Inception and other deep learning models."
   ]
  },
  {
   "cell_type": "markdown",
   "id": "c61ea731",
   "metadata": {},
   "source": [
    "AlexNet Model Architecture:\n",
    "\n",
    "<div style=\"display:flex;align-items:center;justify-content:center;\">\n",
    "    <img src=\"images/AlexNet Architecture.png\" width=\"900\" />\n",
    "</div>"
   ]
  },
  {
   "cell_type": "markdown",
   "id": "de6dca36",
   "metadata": {},
   "source": [
    "AlexNet Model Architecture Summary Table:\n",
    "\n",
    "<div style=\"display:flex;align-items:center;justify-content:center;\">\n",
    "    <img src=\"images/AlexNet Architecture Summary.webp\" width=\"900\" />\n",
    "</div>"
   ]
  },
  {
   "cell_type": "markdown",
   "id": "fb92831f",
   "metadata": {},
   "source": [
    "### Recources:\n",
    "\n",
    "https://viso.ai/deep-learning/alexnet\n",
    "\n",
    "https://medium.com/@siddheshb008/alexnet-architecture-explained-b6240c528bd5"
   ]
  }
 ],
 "metadata": {
  "language_info": {
   "name": "python"
  }
 },
 "nbformat": 4,
 "nbformat_minor": 5
}
