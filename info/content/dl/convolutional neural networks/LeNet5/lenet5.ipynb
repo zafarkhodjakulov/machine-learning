{
 "cells": [
  {
   "cell_type": "markdown",
   "id": "c1518f87",
   "metadata": {},
   "source": [
    "**LeNet 5** architecture is the \"Hello World\" in the domain of Convolution Neural Networks. The backpropagation rule was first applied to all reasonable applications in 1989 by Yann LeCun and colleagues at Bell Labs.\n",
    "\n",
    "LeNet is a convolutional neural network that Yann LeCun introduced in 1989. LeNet is a common term for LeNet-5, a simple convolutional neural network.\n",
    "\n",
    "The LeNet-5 signifies CNN’s emergence and outlines its core components. However, it was not popular at the time due to a lack of hardware, especially GPU (Graphics Process Unit, a specialised electronic circuit designed to change memory to accelerate the creation of images during a buffer intended for output to a show device) and alternative algorithms, like SVM, which could perform effects similar to or even better than those of the LeNet.\n",
    "\n",
    "**Features of LeNet-5**:\n",
    "- Every convolutional layer includes three parts: convolution, pooling, and nonlinear activation functions\n",
    "- Using convolution to extract spatial features (Convolution was called receptive fields originally)\n",
    "- The average pooling layer is used for subsampling.\n",
    "- ‘tanh’ is used as the activation function\n",
    "- Using Multi-Layered Perceptron or Fully Connected Layers as the last classifier\n",
    "- The sparse connection between layers reduces the complexity of computation"
   ]
  },
  {
   "cell_type": "markdown",
   "id": "2e858d3b",
   "metadata": {},
   "source": [
    "### Architecture"
   ]
  },
  {
   "cell_type": "markdown",
   "id": "235af91f",
   "metadata": {},
   "source": [
    "The LeNet-5 CNN architecture has seven layers. Three convolutional layers, two subsampling layers, and two fully linked layers make up the layer composition.\n",
    "\n",
    "<div style=\"display:flex;align-items:center;justify-content:center;\">\n",
    "    <img src=\"images/lenet-5 architecture.webp\" width=\"900\" />\n",
    "</div>"
   ]
  },
  {
   "cell_type": "markdown",
   "id": "d5bdac3c",
   "metadata": {},
   "source": [
    "**First Layer**\n",
    "\n",
    "A 32x32 grayscale image serves as the input for LeNet-5 and is processed by the first convolutional layer comprising six feature maps or filters with a stride of one. From 32x32x1 to 28x28x6, the image’s dimensions shift.\n",
    "\n",
    "<div style=\"display:flex;align-items:center;justify-content:center;\">\n",
    "    <img src=\"images/first_layer.webp\" width=\"700\" />\n",
    "</div>"
   ]
  },
  {
   "cell_type": "markdown",
   "id": "94f78cf4",
   "metadata": {},
   "source": [
    "**Second Layer**\n",
    "\n",
    "Then, using a filter size of 22 and a stride of 2, the LeNet-5 adds an average pooling layer or sub-sampling layer. 14x14x6 will be the final image’s reduced size.\n",
    "\n",
    "<div style=\"display:flex;align-items:center;justify-content:center;\">\n",
    "    <img src=\"images/second_layer.webp\" width=\"700\" />\n",
    "</div>"
   ]
  },
  {
   "cell_type": "markdown",
   "id": "26f26be2",
   "metadata": {},
   "source": [
    "**Third Layer**\n",
    "\n",
    "A second convolutional layer with 16 feature maps of size 55 and a stride of 1 is then present. Only 10 of the 16 feature maps in this layer are linked to the six feature maps in the layer below, as can be seen in the illustration below.\n",
    "\n",
    "<div style=\"display:flex;align-items:center;justify-content:center;\">\n",
    "    <img src=\"images/third_layer.webp\" width=\"700\" />\n",
    "</div>\n",
    "\n",
    "The primary goal is to disrupt the network’s symmetry while maintaining a manageable number of connections. Because of this, there are 1516 training parameters instead of 2400 in these layers, and similarly, there are 151600 connections instead of 240000.\n",
    "\n",
    "<div style=\"display:flex;align-items:center;justify-content:center;\">\n",
    "    <img src=\"images/third_layer2.webp\" width=\"700\" />\n",
    "</div>"
   ]
  },
  {
   "cell_type": "markdown",
   "id": "820d46d4",
   "metadata": {},
   "source": [
    "**Fourth Layer**\n",
    "\n",
    "With a filter size of 22 and a stride of 2, the fourth layer (S4) is once more an average pooling layer. The output will be decreased to 5x5x16 because this layer is identical to the second layer (S2) but has 16 feature maps.\n",
    "\n",
    "<div style=\"display:flex;align-items:center;justify-content:center;\">\n",
    "    <img src=\"images/fourth_layer.webp\" width=\"700\" />\n",
    "</div>"
   ]
  },
  {
   "cell_type": "markdown",
   "id": "9c3ef30f",
   "metadata": {},
   "source": [
    "**Fifth Layer**\n",
    "\n",
    "With 120 feature maps, each measuring 1 x 1, the fifth layer (C5) is a fully connected convolutional layer. All 400 nodes (5x5x16) in layer four, S4, are connected to each of the 120 units in C5’s 120 units.\n",
    "\n",
    "<div style=\"display:flex;align-items:center;justify-content:center;\">\n",
    "    <img src=\"images/fifth_layer.webp\" width=\"700\" />\n",
    "</div>"
   ]
  },
  {
   "cell_type": "markdown",
   "id": "4e7b84b8",
   "metadata": {},
   "source": [
    "**Sixth Layer**\n",
    "\n",
    "A fully connected layer (F6) with 84 units makes up the sixth layer.\n",
    "\n",
    "<div style=\"display:flex;align-items:center;justify-content:center;\">\n",
    "    <img src=\"images/sixth_layer.webp\" width=\"700\" />\n",
    "</div>"
   ]
  },
  {
   "cell_type": "markdown",
   "id": "057b57ed",
   "metadata": {},
   "source": [
    "**Output Layer**\n",
    "\n",
    "The SoftMax output layer, which has 10 potential values and corresponds to the digits 0 to 9, is the last layer.\n",
    "\n",
    "<div style=\"display:flex;align-items:center;justify-content:center;\">\n",
    "    <img src=\"images/output_layer.webp\" width=\"700\" />\n",
    "</div>"
   ]
  },
  {
   "cell_type": "markdown",
   "id": "5165f6b4",
   "metadata": {},
   "source": [
    "### Summary of LeNet-5 Architecture\n",
    "\n",
    "\n",
    "<div style=\"display:flex;align-items:center;justify-content:center;\">\n",
    "    <img src=\"images/lenet5_summary.webp\" width=\"800\" />\n",
    "</div>"
   ]
  },
  {
   "cell_type": "markdown",
   "id": "cc456011",
   "metadata": {},
   "source": [
    "### Implementation"
   ]
  },
  {
   "cell_type": "markdown",
   "id": "f7e441fe",
   "metadata": {},
   "source": [
    "We will be implementing the LeNet-5 Architecture on the MNIST Dataset because MNIST Dataset has images of 28x28 size which have characters are written that will help to show the better implementation of the architecture."
   ]
  },
  {
   "cell_type": "markdown",
   "id": "f8960b15",
   "metadata": {},
   "source": [
    "**download and load the dataset**"
   ]
  },
  {
   "cell_type": "code",
   "execution_count": 1,
   "id": "0de56271",
   "metadata": {},
   "outputs": [
    {
     "name": "stdout",
     "output_type": "stream",
     "text": [
      "Downloading data from https://storage.googleapis.com/tensorflow/tf-keras-datasets/mnist.npz\n",
      "\u001b[1m11490434/11490434\u001b[0m \u001b[32m━━━━━━━━━━━━━━━━━━━━\u001b[0m\u001b[37m\u001b[0m \u001b[1m3s\u001b[0m 0us/step\n"
     ]
    }
   ],
   "source": [
    "import matplotlib.pyplot as plt\n",
    "import tensorflow as tf\n",
    "import numpy as np\n",
    "\n",
    "mnist = tf.keras.datasets.mnist\n",
    "\n",
    "(x_train, y_train), (x_test, y_test) = mnist.load_data()"
   ]
  },
  {
   "cell_type": "markdown",
   "id": "70ac9d4c",
   "metadata": {},
   "source": [
    "**Pre-processing and Normalizing the Data**"
   ]
  },
  {
   "cell_type": "code",
   "execution_count": 2,
   "id": "cf07c4f2",
   "metadata": {},
   "outputs": [],
   "source": [
    "rows, cols = 28, 28\n",
    "\n",
    "# Reshape the data into 4D Array\n",
    "x_train = x_train.reshape(x_train.shape[0], rows, cols, 1)\n",
    "x_test = x_test.reshape(x_test.shape[0], rows, cols, 1)\n",
    "\n",
    "input_shape = (rows, cols, 1)\n",
    "\n",
    "# Set type as float32 and normalize the values to [0,1]\n",
    "x_trian = x_train.astype('float32')\n",
    "x_test = x_test.astype('float32')\n",
    "x_train = x_train / 255.\n",
    "x_test = x_test / 255.\n",
    "\n",
    "y_train = tf.keras.utils.to_categorical(y_train, 10)\n",
    "y_test = tf.keras.utils.to_categorical(y_test, 10)"
   ]
  },
  {
   "cell_type": "markdown",
   "id": "c206d0db",
   "metadata": {},
   "source": [
    "**Define LeNet-5 Model**"
   ]
  },
  {
   "cell_type": "markdown",
   "id": "36dedaee",
   "metadata": {},
   "source": [
    "> It is important to highlight that each image in the MNIST data set has a size of 28 X 28 pixels so we will use the same dimensions for LeNet-5 input instead of 32 X 32 pixels."
   ]
  },
  {
   "cell_type": "code",
   "execution_count": 9,
   "id": "bf64ce2e",
   "metadata": {},
   "outputs": [],
   "source": [
    "def build_lenet(input_shape):\n",
    "    # Define Sequential Model\n",
    "    model = tf.keras.Sequential()\n",
    "\n",
    "    # C1 Convolution Layer\n",
    "    model.add(tf.keras.layers.Conv2D(filters=6, strides=(1,1), kernel_size=(5,5), activation='tanh'))\n",
    "\n",
    "    # S2 SubSampling layer\n",
    "    model.add(tf.keras.layers.AveragePooling2D(pool_size=(2,2), strides=(2,2)))\n",
    "\n",
    "    # C3 Convolution Layer\n",
    "    model.add(tf.keras.layers.Conv2D(filters=6, strides=(1,1), kernel_size=(5,5), activation='tanh'))\n",
    "\n",
    "    # S4 SubSampling Layer\n",
    "    model.add(tf.keras.layers.AveragePooling2D(pool_size=(2,2), strides=(2,2)))\n",
    "\n",
    "    # C5 Fully Connected Layer\n",
    "    model.add(tf.keras.layers.Dense(units=120, activation='tanh'))\n",
    "\n",
    "    # Flatten th eoutput so taht we can connect it with the uflly connected layers by converting it into 1D Aray\n",
    "    model.add(tf.keras.layers.Flatten())\n",
    "\n",
    "    # FC6 Fully Connected Layers\n",
    "    model.add(tf.keras.layers.Dense(units=84, activation='tanh'))\n",
    "\n",
    "    # Output Layer\n",
    "    model.add(tf.keras.layers.Dense(units=10, activation='softmax'))\n",
    "\n",
    "    # Compile the Model\n",
    "    model.compile(loss='categorical_crossentropy', optimizer=tf.keras.optimizers.SGD(learning_rate=0.1), metrics=['accuracy'])\n",
    "\n",
    "    return model"
   ]
  },
  {
   "cell_type": "code",
   "execution_count": 10,
   "id": "baa52f22",
   "metadata": {},
   "outputs": [],
   "source": [
    "lenet = build_lenet(input_shape)"
   ]
  },
  {
   "cell_type": "code",
   "execution_count": 11,
   "id": "a08b9275",
   "metadata": {},
   "outputs": [
    {
     "name": "stdout",
     "output_type": "stream",
     "text": [
      "Epoch 1/10\n",
      "\u001b[1m469/469\u001b[0m \u001b[32m━━━━━━━━━━━━━━━━━━━━\u001b[0m\u001b[37m\u001b[0m \u001b[1m4s\u001b[0m 6ms/step - accuracy: 0.7977 - loss: 0.7425\n",
      "Epoch 2/10\n",
      "\u001b[1m469/469\u001b[0m \u001b[32m━━━━━━━━━━━━━━━━━━━━\u001b[0m\u001b[37m\u001b[0m \u001b[1m3s\u001b[0m 6ms/step - accuracy: 0.9361 - loss: 0.2129\n",
      "Epoch 3/10\n",
      "\u001b[1m469/469\u001b[0m \u001b[32m━━━━━━━━━━━━━━━━━━━━\u001b[0m\u001b[37m\u001b[0m \u001b[1m3s\u001b[0m 6ms/step - accuracy: 0.9560 - loss: 0.1499\n",
      "Epoch 4/10\n",
      "\u001b[1m469/469\u001b[0m \u001b[32m━━━━━━━━━━━━━━━━━━━━\u001b[0m\u001b[37m\u001b[0m \u001b[1m3s\u001b[0m 6ms/step - accuracy: 0.9648 - loss: 0.1204\n",
      "Epoch 5/10\n",
      "\u001b[1m469/469\u001b[0m \u001b[32m━━━━━━━━━━━━━━━━━━━━\u001b[0m\u001b[37m\u001b[0m \u001b[1m3s\u001b[0m 6ms/step - accuracy: 0.9699 - loss: 0.1001\n",
      "Epoch 6/10\n",
      "\u001b[1m469/469\u001b[0m \u001b[32m━━━━━━━━━━━━━━━━━━━━\u001b[0m\u001b[37m\u001b[0m \u001b[1m3s\u001b[0m 6ms/step - accuracy: 0.9743 - loss: 0.0869\n",
      "Epoch 7/10\n",
      "\u001b[1m469/469\u001b[0m \u001b[32m━━━━━━━━━━━━━━━━━━━━\u001b[0m\u001b[37m\u001b[0m \u001b[1m3s\u001b[0m 6ms/step - accuracy: 0.9769 - loss: 0.0755\n",
      "Epoch 8/10\n",
      "\u001b[1m469/469\u001b[0m \u001b[32m━━━━━━━━━━━━━━━━━━━━\u001b[0m\u001b[37m\u001b[0m \u001b[1m3s\u001b[0m 6ms/step - accuracy: 0.9804 - loss: 0.0664\n",
      "Epoch 9/10\n",
      "\u001b[1m469/469\u001b[0m \u001b[32m━━━━━━━━━━━━━━━━━━━━\u001b[0m\u001b[37m\u001b[0m \u001b[1m3s\u001b[0m 6ms/step - accuracy: 0.9817 - loss: 0.0614\n",
      "Epoch 10/10\n",
      "\u001b[1m469/469\u001b[0m \u001b[32m━━━━━━━━━━━━━━━━━━━━\u001b[0m\u001b[37m\u001b[0m \u001b[1m3s\u001b[0m 6ms/step - accuracy: 0.9841 - loss: 0.0532\n"
     ]
    }
   ],
   "source": [
    "epochs = 10\n",
    "history = lenet.fit(x_train, y_train, epochs=epochs, batch_size=128, verbose=1)"
   ]
  },
  {
   "cell_type": "code",
   "execution_count": 12,
   "id": "a35d727d",
   "metadata": {},
   "outputs": [
    {
     "name": "stdout",
     "output_type": "stream",
     "text": [
      "\u001b[1m313/313\u001b[0m \u001b[32m━━━━━━━━━━━━━━━━━━━━\u001b[0m\u001b[37m\u001b[0m \u001b[1m1s\u001b[0m 2ms/step - accuracy: 0.9782 - loss: 0.0658\n",
      "Accuracy: 0.9835000038146973\n"
     ]
    }
   ],
   "source": [
    "loss, acc = lenet.evaluate(x_test, y_test)\n",
    "print('Accuracy:', acc)"
   ]
  },
  {
   "cell_type": "code",
   "execution_count": 13,
   "id": "2c7e0221",
   "metadata": {},
   "outputs": [
    {
     "name": "stdout",
     "output_type": "stream",
     "text": [
      "Training Data (60000, 28, 28) (60000, 10)\n",
      "Test Data (10000, 28, 28) (10000, 10)\n"
     ]
    }
   ],
   "source": [
    "x_train = x_train.reshape(x_train.shape[0], 28,28)\n",
    "print('Training Data', x_train.shape, y_train.shape)\n",
    "x_test = x_test.reshape(x_test.shape[0], 28,28)\n",
    "print('Test Data', x_test.shape, y_test.shape)"
   ]
  },
  {
   "cell_type": "code",
   "execution_count": 23,
   "id": "065b6dda",
   "metadata": {},
   "outputs": [
    {
     "data": {
      "image/png": "[encoded data removed]",
      "text/plain": [
       "<Figure size 640x480 with 1 Axes>"
      ]
     },
     "metadata": {},
     "output_type": "display_data"
    }
   ],
   "source": [
    "image_index = 1\n",
    "plt.imshow(x_test[image_index].reshape(28,28), cmap='Greys')\n",
    "plt.show()"
   ]
  },
  {
   "cell_type": "code",
   "execution_count": 24,
   "id": "6c076376",
   "metadata": {},
   "outputs": [
    {
     "name": "stdout",
     "output_type": "stream",
     "text": [
      "\u001b[1m1/1\u001b[0m \u001b[32m━━━━━━━━━━━━━━━━━━━━\u001b[0m\u001b[37m\u001b[0m \u001b[1m0s\u001b[0m 38ms/step\n",
      "2\n"
     ]
    }
   ],
   "source": [
    "pred = lenet.predict(x_test[image_index].reshape(1,rows,cols,1))\n",
    "print(pred.argmax())"
   ]
  }
 ],
 "metadata": {
  "kernelspec": {
   "display_name": "Python 3",
   "language": "python",
   "name": "python3"
  },
  "language_info": {
   "codemirror_mode": {
    "name": "ipython",
    "version": 3
   },
   "file_extension": ".py",
   "mimetype": "text/x-python",
   "name": "python",
   "nbconvert_exporter": "python",
   "pygments_lexer": "ipython3",
   "version": "3.12.10"
  }
 },
 "nbformat": 4,
 "nbformat_minor": 5
}
