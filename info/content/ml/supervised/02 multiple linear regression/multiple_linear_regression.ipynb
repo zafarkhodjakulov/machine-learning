{
 "cells": [
  {
   "cell_type": "markdown",
   "metadata": {},
   "source": [
    "<h1 style=\"text-align:center;color:#0F4C81\">Multiple Linear Regression</h1>"
   ]
  },
  {
   "cell_type": "markdown",
   "metadata": {},
   "source": [
    "Consider this, suppose you have to estimate the price of a certain house you want to buy. You know the floor area, the age of the house, its distance from your workplace, the crime rate of the place, etc.\n",
    "\n",
    "Now, some of these factors will affect the price of the house positively. For example more the area, the more the price. On the other hand, factors like distance from the workplace, and the crime rate can influence your estimate of the house negatively.\n",
    "\n",
    "*Disadvantages of Simple Linear Regression*: Running separate simple linear regressions will lead to different outcomes when we are interested in just one. Besides that, there may be an input variable that is itself correlated with or dependent on some other predictor. This can cause wrong predictions and unsatisfactory results.\n",
    "\n",
    "This is where Multiple Linear Regression comes into the picture.\n",
    "\n",
    "$$\n",
    "Y = \\beta_0 + \\beta_1X_1 + \\beta_2X_2 + \\dots + \\beta_mX_m + \\varepsilon\n",
    "$$\n",
    "\n",
    "Here, Y is the output variable, and X terms are the corresponding input variables. Notice that this equation is just an extension of *Simple Linear Regression*, and each predictor has a corresponding slope coefficient ($\\beta$).\n",
    "\n",
    "The first $\\beta$ term ($\\beta_0$) is the intercept constant and is the value of $Y$ in absence of all predictors (i.e when all $X$ terms are 0). It may or may or may not hold any significance in a given regression problem. It’s generally there to give a relevant nudge to the line/plane of regression.\n",
    "\n",
    "Let’s now understand this with the help of some data."
   ]
  },
  {
   "cell_type": "markdown",
   "metadata": {},
   "source": [
    "### Visualizing the data"
   ]
  },
  {
   "cell_type": "markdown",
   "metadata": {},
   "source": [
    "We are going to use `Advertising` data which is available on the site of USC Marshall School of Business.\n",
    "\n",
    "The advertising data set consists of the sales of a product in 200 different markets, along with advertising budgets for three different media: TV, radio, and newspaper. Here’s how it looks like:"
   ]
  },
  {
   "cell_type": "code",
   "execution_count": 10,
   "metadata": {},
   "outputs": [
    {
     "data": {
      "text/html": [
       "<div>\n",
       "<style scoped>\n",
       "    .dataframe tbody tr th:only-of-type {\n",
       "        vertical-align: middle;\n",
       "    }\n",
       "\n",
       "    .dataframe tbody tr th {\n",
       "        vertical-align: top;\n",
       "    }\n",
       "\n",
       "    .dataframe thead th {\n",
       "        text-align: right;\n",
       "    }\n",
       "</style>\n",
       "<table border=\"1\" class=\"dataframe\">\n",
       "  <thead>\n",
       "    <tr style=\"text-align: right;\">\n",
       "      <th></th>\n",
       "      <th>TV</th>\n",
       "      <th>Radio</th>\n",
       "      <th>Newspaper</th>\n",
       "      <th>Sales</th>\n",
       "    </tr>\n",
       "  </thead>\n",
       "  <tbody>\n",
       "    <tr>\n",
       "      <th>0</th>\n",
       "      <td>230.1</td>\n",
       "      <td>37.8</td>\n",
       "      <td>69.2</td>\n",
       "      <td>22.1</td>\n",
       "    </tr>\n",
       "    <tr>\n",
       "      <th>1</th>\n",
       "      <td>44.5</td>\n",
       "      <td>39.3</td>\n",
       "      <td>45.1</td>\n",
       "      <td>10.4</td>\n",
       "    </tr>\n",
       "    <tr>\n",
       "      <th>2</th>\n",
       "      <td>17.2</td>\n",
       "      <td>45.9</td>\n",
       "      <td>69.3</td>\n",
       "      <td>12.0</td>\n",
       "    </tr>\n",
       "    <tr>\n",
       "      <th>3</th>\n",
       "      <td>151.5</td>\n",
       "      <td>41.3</td>\n",
       "      <td>58.5</td>\n",
       "      <td>16.5</td>\n",
       "    </tr>\n",
       "    <tr>\n",
       "      <th>4</th>\n",
       "      <td>180.8</td>\n",
       "      <td>10.8</td>\n",
       "      <td>58.4</td>\n",
       "      <td>17.9</td>\n",
       "    </tr>\n",
       "  </tbody>\n",
       "</table>\n",
       "</div>"
      ],
      "text/plain": [
       "      TV  Radio  Newspaper  Sales\n",
       "0  230.1   37.8       69.2   22.1\n",
       "1   44.5   39.3       45.1   10.4\n",
       "2   17.2   45.9       69.3   12.0\n",
       "3  151.5   41.3       58.5   16.5\n",
       "4  180.8   10.8       58.4   17.9"
      ]
     },
     "metadata": {},
     "output_type": "display_data"
    },
    {
     "data": {
      "text/plain": [
       "(200, 4)"
      ]
     },
     "execution_count": 10,
     "metadata": {},
     "output_type": "execute_result"
    }
   ],
   "source": [
    "import pandas as pd; df=pd.read_csv('data/advertising.csv'); display(df.head()); df.shape"
   ]
  },
  {
   "cell_type": "markdown",
   "metadata": {},
   "source": [
    "The first row of the data says that the advertising budgets for TV, radio, and newspaper were $230.1k, $37.8k, and $69.2k respectively, and the corresponding number of units that were sold was 22.1k (or 22,100).\n",
    "\n",
    "In Simple Linear Regression, we can see how each advertising medium affects sales when applied without the other two media. However, in practice, all three might be working together to impact net sales. We did not consider the combined effect of these media on sales.\n",
    "\n",
    "Multiple Linear Regression solves the problem by taking account of all the variables in a single expression. Hence, our Linear Regression model can now be expressed as:"
   ]
  },
  {
   "cell_type": "markdown",
   "metadata": {},
   "source": [
    "$$\n",
    "\\text{sales} = \\beta_0 + \\beta_1\\text{TV} + \\beta_2\\text{radio} + \\beta_3\\text{newspaper}\n",
    "$$"
   ]
  },
  {
   "cell_type": "markdown",
   "metadata": {},
   "source": [
    "Finding the values of these constants ($\\beta$) is what regression model does by minimizing the error function and fitting the best line or *hyperplane* (depending on the number of input variables).\n",
    "\n",
    "This is done by minimizing the Residual Sum of Squares (RSS), which is obtained by squaring the differences between actual and predicted outcomes."
   ]
  },
  {
   "cell_type": "markdown",
   "metadata": {},
   "source": [
    "$$\n",
    "\\text{RSS} = \\sum_i^n \\left(y_i - \\hat{y_i} \\right)^2\n",
    "$$"
   ]
  },
  {
   "cell_type": "markdown",
   "metadata": {},
   "source": [
    "Because this method finds the least sum of squares, it is also known as the **Ordinary Least Squares** (OLS) method.\n",
    "\n",
    "Here is how we can find coefficients of multiple linear regression using `sklearn` library:"
   ]
  },
  {
   "cell_type": "code",
   "execution_count": 24,
   "metadata": {},
   "outputs": [
    {
     "name": "stdout",
     "output_type": "stream",
     "text": [
      "Intercept: 4.625124078808653\n",
      "TV        : 0.05444578033757095\n",
      "Radio     : 0.1070012282387029\n",
      "Newspaper : 0.0003356579223305718\n"
     ]
    }
   ],
   "source": [
    "from sklearn.linear_model import LinearRegression\n",
    "\n",
    "cols = ['TV', 'Radio', 'Newspaper']\n",
    "X = df[cols]\n",
    "y = df['Sales']\n",
    "model = LinearRegression()\n",
    "model.fit(X, y)\n",
    "\n",
    "print('Intercept:', model.intercept_)\n",
    "\n",
    "for name, coef in zip(cols, model.coef_):\n",
    "    print(f'{name:<10}: {coef}')"
   ]
  },
  {
   "cell_type": "markdown",
   "metadata": {},
   "source": [
    "Now that we have these values, how to interpret them? Here’s how:\n",
    "\n",
    "- If we fix the budget for TV & newspaper, then increasing the radio budget by $1000 will lead to an increase in sales by around 107 units ($0.107 \\cdot 1000$).\n",
    "\n",
    "- Similarly, by fixing the radio & newspaper, we infer an approximate rise of 54 units of products per $1000 increase in the TV budget.\n",
    "\n",
    "- However, for the newspaper budget, since the coefficient is quite negligible (close to zero), it’s evident that the newspaper is not affecting the sales."
   ]
  },
  {
   "cell_type": "markdown",
   "metadata": {},
   "source": [
    "**Evaluating the Model**"
   ]
  },
  {
   "cell_type": "code",
   "execution_count": 38,
   "metadata": {},
   "outputs": [
    {
     "name": "stdout",
     "output_type": "stream",
     "text": [
      "R squared: 90.26\n",
      "Mean Absolute Error: 1.2363919943957848\n",
      "Mean Square Error: 2.706006147627316\n",
      "Root Mean Square Error: 1.6449942697855564\n"
     ]
    }
   ],
   "source": [
    "from sklearn import metrics\n",
    "\n",
    "y_pred = model.predict(X)\n",
    "meanAbErr = metrics.mean_absolute_error(y, y_pred)\n",
    "meanSqErr = metrics.mean_squared_error(y, y_pred)\n",
    "rootMeanSqErr = metrics.root_mean_squared_error(y, y_pred)\n",
    "print('R squared: {:.2f}'.format(model.score(X, y)*100))\n",
    "print('Mean Absolute Error:', meanAbErr)\n",
    "print('Mean Square Error:', meanSqErr)\n",
    "print('Root Mean Square Error:', rootMeanSqErr)"
   ]
  },
  {
   "cell_type": "markdown",
   "metadata": {},
   "source": [
    "<h2 style=\"text-align:center;color:#0F4C81\">Solving multiple linear regression with pure Python</h2>"
   ]
  },
  {
   "cell_type": "markdown",
   "metadata": {},
   "source": [
    "$$\n",
    "\\beta = (X^TX)^{-1}X^Ty\n",
    "$$"
   ]
  },
  {
   "cell_type": "markdown",
   "metadata": {},
   "source": [
    "Dataset: `data/advertising.csv`"
   ]
  },
  {
   "cell_type": "code",
   "execution_count": 47,
   "metadata": {},
   "outputs": [
    {
     "name": "stdout",
     "output_type": "stream",
     "text": [
      "Intercept: 4.6251240788087\n",
      "TV: 0.05444578033757067\n",
      "Radio: 0.10700122823870217\n",
      "Newspaper: 0.00033565792233059\n"
     ]
    }
   ],
   "source": [
    "# solving multiple linear regression with pure python\n",
    "import csv\n",
    "\n",
    "data_file = 'data/advertising.csv'\n",
    "\n",
    "with open(data_file) as f:\n",
    "    reader = csv.reader(f)\n",
    "    columns = next(reader)\n",
    "\n",
    "    data = [[float(i) for i in row] for row in reader]\n",
    "\n",
    "X = [row[:-1] for row in data]\n",
    "y = [row[-1] for row in data]\n",
    "\n",
    "# Add a column of ones to X for the intercept term\n",
    "for row in X:\n",
    "    row.insert(0, 1.0)\n",
    "\n",
    "# Transpose X for matrix calculations\n",
    "def transpose(matrix):\n",
    "    return list(map(list, zip(*matrix)))\n",
    "\n",
    "# Matrix multiplication\n",
    "def matmul(A, B):\n",
    "    result = [\n",
    "        [sum(a * b for a, b in zip(A_row, B_col)) for B_col in zip(*B)]\n",
    "        for A_row in A\n",
    "    ]\n",
    "    return result\n",
    "\n",
    "# Invert a square matrix\n",
    "def invert(matrix):\n",
    "    n = len(matrix)\n",
    "    identity = [[1 if i == j else 0 for j in range(n)] for i in range(n)]\n",
    "\n",
    "    for i in range(n):\n",
    "        diag_element = matrix[i][i]\n",
    "        for j in range(n):\n",
    "            matrix[i][j] /= diag_element\n",
    "            identity[i][j] /= diag_element\n",
    "        for k in range(n):\n",
    "            if k != i:\n",
    "                factor = matrix[k][i]\n",
    "                for j in range(n):\n",
    "                    matrix[k][j] -= factor * matrix[i][j]\n",
    "                    identity[k][j] -= factor * identity[i][j]\n",
    "    return identity\n",
    "\n",
    "X_t = transpose(X)\n",
    "X_t_X = matmul(X_t, X)\n",
    "X_t_y = matmul(X_t, [[yi] for yi in y])\n",
    "X_t_X_inv = invert(X_t_X)\n",
    "beta = matmul(X_t_X_inv, X_t_y)\n",
    "\n",
    "coef = [b[0] for b in beta]\n",
    "\n",
    "print(f\"Intercept: {coef[0]}\")\n",
    "print(f\"TV: {coef[1]}\")\n",
    "print(f\"Radio: {coef[2]}\")\n",
    "print(f\"Newspaper: {coef[3]}\")"
   ]
  },
  {
   "cell_type": "markdown",
   "metadata": {},
   "source": [
    "<h2 style=\"text-align:center;color:#0F4C81\">Solving multiple linear regression with NumPy</h2>"
   ]
  },
  {
   "cell_type": "code",
   "execution_count": 64,
   "metadata": {},
   "outputs": [
    {
     "name": "stdout",
     "output_type": "stream",
     "text": [
      "Intercept: 4.625124078808676\n",
      "TV: 0.05444578033757087\n",
      "Radio: 0.10700122823870181\n",
      "Newspaper: 0.00033565792233131164\n"
     ]
    }
   ],
   "source": [
    "import numpy as np\n",
    "\n",
    "data_file = 'data/advertising.csv'\n",
    "\n",
    "data = np.loadtxt(data_file, skiprows=1, delimiter=',')\n",
    "\n",
    "X = data[:,:-1]\n",
    "y = data[:, -1]\n",
    "\n",
    "X = np.c_[np.ones(X.shape[0]), X]\n",
    "\n",
    "coef = np.linalg.inv(X.T @ X) @ X.T @ y\n",
    "\n",
    "print(f\"Intercept: {coef[0]}\")\n",
    "print(f\"TV: {coef[1]}\")\n",
    "print(f\"Radio: {coef[2]}\")\n",
    "print(f\"Newspaper: {coef[3]}\")"
   ]
  }
 ],
 "metadata": {
  "kernelspec": {
   "display_name": "Python 3",
   "language": "python",
   "name": "python3"
  },
  "language_info": {
   "codemirror_mode": {
    "name": "ipython",
    "version": 3
   },
   "file_extension": ".py",
   "mimetype": "text/x-python",
   "name": "python",
   "nbconvert_exporter": "python",
   "pygments_lexer": "ipython3",
   "version": "3.10.11"
  }
 },
 "nbformat": 4,
 "nbformat_minor": 2
}
