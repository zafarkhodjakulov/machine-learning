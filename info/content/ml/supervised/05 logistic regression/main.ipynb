{
 "cells": [
  {
   "cell_type": "code",
   "execution_count": 37,
   "id": "fcaf6a8b",
   "metadata": {},
   "outputs": [],
   "source": [
    "import pandas as pd\n",
    "import matplotlib.pyplot as plt\n",
    "import numpy as np\n",
    "from sklearn.preprocessing import StandardScaler"
   ]
  },
  {
   "cell_type": "code",
   "execution_count": 4,
   "id": "91779888",
   "metadata": {},
   "outputs": [],
   "source": [
    "data = pd.read_csv(r\"data\\heart_diceases.csv\")"
   ]
  },
  {
   "cell_type": "code",
   "execution_count": 38,
   "id": "82ab4dd6",
   "metadata": {},
   "outputs": [],
   "source": [
    "sclr = StandardScaler()"
   ]
  },
  {
   "cell_type": "code",
   "execution_count": 39,
   "id": "2d71a601",
   "metadata": {},
   "outputs": [],
   "source": [
    "X = data[['age', 'sex', 'trestbps']].to_numpy()\n",
    "y = data['target'].to_numpy()\n",
    "X = sclr.fit_transform(X)"
   ]
  },
  {
   "cell_type": "code",
   "execution_count": 41,
   "id": "0eb6f66b",
   "metadata": {},
   "outputs": [],
   "source": [
    "def sigmoid(x):\n",
    "    return 1 / (1 + np.exp(-x))\n",
    "\n",
    "def f(x):\n",
    "    x = np.c_[np.ones(x.shape[0]), x]\n",
    "    coef = np.random.randn(x.shape[1])\n",
    "\n",
    "    # print(x)\n",
    "    # print(coef)\n",
    "    # print((x[1]*coef).sum())\n",
    "    z = x @ coef\n",
    "    return sigmoid(z)\n"
   ]
  },
  {
   "cell_type": "code",
   "execution_count": 42,
   "id": "4ded6fe4",
   "metadata": {},
   "outputs": [],
   "source": [
    "y_pred = f(X)"
   ]
  },
  {
   "cell_type": "code",
   "execution_count": 43,
   "id": "b922920b",
   "metadata": {},
   "outputs": [
    {
     "data": {
      "text/plain": [
       "array([0.59391206, 0.8536744 , 0.89658066, ..., 0.27135325, 0.96769296,\n",
       "       0.47748082])"
      ]
     },
     "execution_count": 43,
     "metadata": {},
     "output_type": "execute_result"
    }
   ],
   "source": [
    "y_pred"
   ]
  },
  {
   "cell_type": "code",
   "execution_count": null,
   "id": "da61a720",
   "metadata": {},
   "outputs": [
    {
     "data": {
      "text/plain": [
       "array([-0.52102401, -0.15820542, -0.10916701, ..., -1.3043338 ,\n",
       "       -0.03284043, -0.73923129])"
      ]
     },
     "execution_count": 46,
     "metadata": {},
     "output_type": "execute_result"
    }
   ],
   "source": []
  },
  {
   "cell_type": "code",
   "execution_count": 52,
   "id": "4e46c6dd",
   "metadata": {},
   "outputs": [
    {
     "data": {
      "text/plain": [
       "np.float64(1.330501228471648)"
      ]
     },
     "execution_count": 52,
     "metadata": {},
     "output_type": "execute_result"
    }
   ],
   "source": [
    "def binary_cross_entropy_pre(y, y_pred):\n",
    "    return -(y*np.log(y_pred) + (1-y)*np.log(1-y_pred))\n",
    "\n",
    "def binary_cross_entropy(y, y_pred):\n",
    "    loss = y*np.log(y_pred) + (1-y)*np.log(1-y_pred)\n",
    "    return -loss.mean()\n",
    "\n",
    "binary_cross_entropy(y, y_pred)"
   ]
  },
  {
   "cell_type": "code",
   "execution_count": 53,
   "id": "d05b9dad",
   "metadata": {},
   "outputs": [
    {
     "data": {
      "text/html": [
       "<div>\n",
       "<style scoped>\n",
       "    .dataframe tbody tr th:only-of-type {\n",
       "        vertical-align: middle;\n",
       "    }\n",
       "\n",
       "    .dataframe tbody tr th {\n",
       "        vertical-align: top;\n",
       "    }\n",
       "\n",
       "    .dataframe thead th {\n",
       "        text-align: right;\n",
       "    }\n",
       "</style>\n",
       "<table border=\"1\" class=\"dataframe\">\n",
       "  <thead>\n",
       "    <tr style=\"text-align: right;\">\n",
       "      <th></th>\n",
       "      <th>y</th>\n",
       "      <th>y_prob</th>\n",
       "      <th>y_loss</th>\n",
       "    </tr>\n",
       "  </thead>\n",
       "  <tbody>\n",
       "    <tr>\n",
       "      <th>0</th>\n",
       "      <td>0</td>\n",
       "      <td>0.593912</td>\n",
       "      <td>0.901186</td>\n",
       "    </tr>\n",
       "    <tr>\n",
       "      <th>1</th>\n",
       "      <td>0</td>\n",
       "      <td>0.853674</td>\n",
       "      <td>1.921921</td>\n",
       "    </tr>\n",
       "    <tr>\n",
       "      <th>2</th>\n",
       "      <td>0</td>\n",
       "      <td>0.896581</td>\n",
       "      <td>2.268963</td>\n",
       "    </tr>\n",
       "    <tr>\n",
       "      <th>3</th>\n",
       "      <td>0</td>\n",
       "      <td>0.922187</td>\n",
       "      <td>2.553451</td>\n",
       "    </tr>\n",
       "    <tr>\n",
       "      <th>4</th>\n",
       "      <td>0</td>\n",
       "      <td>0.997382</td>\n",
       "      <td>5.945302</td>\n",
       "    </tr>\n",
       "    <tr>\n",
       "      <th>...</th>\n",
       "      <td>...</td>\n",
       "      <td>...</td>\n",
       "      <td>...</td>\n",
       "    </tr>\n",
       "    <tr>\n",
       "      <th>1020</th>\n",
       "      <td>1</td>\n",
       "      <td>0.850722</td>\n",
       "      <td>0.161669</td>\n",
       "    </tr>\n",
       "    <tr>\n",
       "      <th>1021</th>\n",
       "      <td>0</td>\n",
       "      <td>0.586354</td>\n",
       "      <td>0.882744</td>\n",
       "    </tr>\n",
       "    <tr>\n",
       "      <th>1022</th>\n",
       "      <td>0</td>\n",
       "      <td>0.271353</td>\n",
       "      <td>0.316566</td>\n",
       "    </tr>\n",
       "    <tr>\n",
       "      <th>1023</th>\n",
       "      <td>1</td>\n",
       "      <td>0.967693</td>\n",
       "      <td>0.032840</td>\n",
       "    </tr>\n",
       "    <tr>\n",
       "      <th>1024</th>\n",
       "      <td>0</td>\n",
       "      <td>0.477481</td>\n",
       "      <td>0.649094</td>\n",
       "    </tr>\n",
       "  </tbody>\n",
       "</table>\n",
       "<p>1025 rows × 3 columns</p>\n",
       "</div>"
      ],
      "text/plain": [
       "      y    y_prob    y_loss\n",
       "0     0  0.593912  0.901186\n",
       "1     0  0.853674  1.921921\n",
       "2     0  0.896581  2.268963\n",
       "3     0  0.922187  2.553451\n",
       "4     0  0.997382  5.945302\n",
       "...  ..       ...       ...\n",
       "1020  1  0.850722  0.161669\n",
       "1021  0  0.586354  0.882744\n",
       "1022  0  0.271353  0.316566\n",
       "1023  1  0.967693  0.032840\n",
       "1024  0  0.477481  0.649094\n",
       "\n",
       "[1025 rows x 3 columns]"
      ]
     },
     "execution_count": 53,
     "metadata": {},
     "output_type": "execute_result"
    }
   ],
   "source": [
    "pd.DataFrame(\n",
    "    {\n",
    "        'y': y,\n",
    "        'y_prob': y_pred,\n",
    "        'y_loss': binary_cross_entropy_pre(y, y_pred)\n",
    "    }\n",
    ")"
   ]
  },
  {
   "cell_type": "code",
   "execution_count": null,
   "id": "9bf5652d",
   "metadata": {},
   "outputs": [],
   "source": [
    "from sklearn.linear_model import LogisticRegression"
   ]
  }
 ],
 "metadata": {
  "kernelspec": {
   "display_name": "Python 3",
   "language": "python",
   "name": "python3"
  },
  "language_info": {
   "codemirror_mode": {
    "name": "ipython",
    "version": 3
   },
   "file_extension": ".py",
   "mimetype": "text/x-python",
   "name": "python",
   "nbconvert_exporter": "python",
   "pygments_lexer": "ipython3",
   "version": "3.12.10"
  }
 },
 "nbformat": 4,
 "nbformat_minor": 5
}
