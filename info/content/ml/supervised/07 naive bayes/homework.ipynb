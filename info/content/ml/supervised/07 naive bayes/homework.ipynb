{
 "cells": [
  {
   "cell_type": "markdown",
   "id": "af1cbcbf",
   "metadata": {},
   "source": [
    "###  Task 1: Bernoulli Naive Bayes on Binary Text Data\n",
    "\n",
    "* Task 1 Setup: SMS Spam Classification using Bernoulli Naive Bayes\n",
    "\n",
    "* Step 1: Load the dataset from this URL:\n",
    "* https://raw.githubusercontent.com/justmarkham/pycon-2016-tutorial/master/data/sms.tsv\n",
    "\n",
    "* Step 2: Convert the 'label' column into binary values: spam = 1, ham = 0\n",
    "\n",
    "* Step 3: Use CountVectorizer with binary=True to transform the text into binary features\n",
    "\n",
    "* Step 4: Split the dataset into training and test sets (e.g., 70/30 split)\n",
    "\n",
    "* Step 5: Initialize and train a BernoulliNB model\n",
    "\n",
    "* Step 6: Predict on the test set and evaluate using accuracy and confusion matrix\n"
   ]
  },
  {
   "cell_type": "code",
   "execution_count": null,
   "id": "1ca57d3a",
   "metadata": {},
   "outputs": [],
   "source": []
  },
  {
   "cell_type": "markdown",
   "id": "f945b937",
   "metadata": {},
   "source": [
    "### Task 2: Gaussian Naive Bayes on Real-Valued Data\n",
    "\n",
    "* Task 2 Setup: Iris Dataset with Gaussian Naive Bayes\n",
    "\n",
    "* Step 1: Load the Iris dataset using sklearn.datasets.load_iris()\n",
    "\n",
    "* Step 2: Split the data into training and test sets (e.g., 70/30 split)\n",
    "\n",
    "* Step 3: Initialize a GaussianNB model\n",
    "\n",
    "* Step 4: Train the model and evaluate performance using accuracy and classification report\n"
   ]
  },
  {
   "cell_type": "code",
   "execution_count": null,
   "id": "f497f326",
   "metadata": {},
   "outputs": [],
   "source": []
  },
  {
   "cell_type": "markdown",
   "id": "496beef6",
   "metadata": {},
   "source": [
    "### Task 3: Multinomial Naive Bayes on Word Frequencies\n",
    "\n",
    "* Task 3 Setup: SMS Spam Classification using Multinomial Naive Bayes\n",
    "\n",
    "* Step 1: Reuse the same SMS Spam dataset from Task 1\n",
    "\n",
    "* Step 2: Use CountVectorizer (without binary=True) to extract word frequency features\n",
    "\n",
    "* Step 3: Split the data into training and test sets\n",
    "\n",
    "* Step 4: Initialize and train a MultinomialNB model\n",
    "\n",
    "* Step 5: Evaluate the model with appropriate metrics\n"
   ]
  },
  {
   "cell_type": "markdown",
   "id": "cc744c89",
   "metadata": {},
   "source": []
  }
 ],
 "metadata": {
  "kernelspec": {
   "display_name": "base",
   "language": "python",
   "name": "python3"
  },
  "language_info": {
   "codemirror_mode": {
    "name": "ipython",
    "version": 3
   },
   "file_extension": ".py",
   "mimetype": "text/x-python",
   "name": "python",
   "nbconvert_exporter": "python",
   "pygments_lexer": "ipython3",
   "version": "3.11.7"
  }
 },
 "nbformat": 4,
 "nbformat_minor": 5
}
